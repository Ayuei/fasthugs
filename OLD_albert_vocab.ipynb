{
 "cells": [
  {
   "cell_type": "markdown",
   "metadata": {},
   "source": [
    "# FastHugs - Getting the ALBERT Vocab"
   ]
  },
  {
   "cell_type": "markdown",
   "metadata": {},
   "source": [
    "### Solution found in Google's SentencePiece issues: https://github.com/google/sentencepiece/issues/121\n",
    "\n",
    "**1. Install protobuf**\n",
    "\n",
    "`sudo apt install protobuf-compiler`\n",
    "\n",
    "\n",
    "\n",
    "**2. Clone the SentencePiece repo**\n",
    "\n",
    "`git clone https://github.com/google/sentencepiece.git`\n",
    "\n",
    "\n",
    "\n",
    "**3. cd to `sentencepiece/src`**\n",
    "\n",
    "`cd sentencepiece/src`\n",
    "\n",
    "\n",
    "**4. Run the below to generate `sentencepiece_model_pb2.py`**\n",
    "\n",
    "`protoc --python_out=. sentencepiece_model.proto`\n",
    "\n",
    "\n",
    "**5. Copy the `sentencepiece_model_pb2.py` file to the same directory as your notebook**\n",
    "\n",
    "`cp sentencepiece_model_pb2.py YOUR_NOTEBOOK_DIR/sentencepiece_model_pb2.py`\n",
    "\n",
    "\n",
    "**6. Use `sentencepiece_model_pb2` to open the .model file from the tokenizer**\n",
    "\n",
    "`\n",
    "import sentencepiece_model_pb2 as spmodel\n",
    "m = spmodel.ModelProto()\n",
    "m.ParseFromString(open('models/spiece.model', 'rb').read())\n",
    "`\n",
    "\n",
    "**7. Iterate through .pieces to extract each token from the vocab and append to list**\n",
    "`\n",
    "vocab_ls=[]\n",
    "for i,p in enumerate(m.pieces):\n",
    "    vocab_ls.append(p.piece)\n",
    "`\n",
    "\n",
    "(There is also a p.score attribute if you are interested in that too)\n",
    "\n",
    "\n",
    "**8. Save the vocab so you don't have to do this icky work again**\n",
    "\n",
    "`\n",
    "import json\n",
    "with open('YOUR_MODEL_DIR/alberta_v2_vocab.json', 'w', encoding='utf-8') as f:\n",
    "    json.dump(vocab_ls, f, ensure_ascii=False, indent=4)\n",
    " `\n",
    " \n",
    "**Opening the vocab.json file in future**\n",
    "\n",
    "Now simply use the below code to open your saved vocab file\n",
    "\n",
    "`\n",
    "with open('models/albert-base-v2/alberta_v2_vocab.txt', 'w') as f:\n",
    "    for item in v_ls:\n",
    "        f.write(\"%s\\n\" % item)\n",
    "`"
   ]
  }
 ],
 "metadata": {
  "kernelspec": {
   "display_name": "Python 3",
   "language": "python",
   "name": "python3"
  },
  "language_info": {
   "codemirror_mode": {
    "name": "ipython",
    "version": 3
   },
   "file_extension": ".py",
   "mimetype": "text/x-python",
   "name": "python",
   "nbconvert_exporter": "python",
   "pygments_lexer": "ipython3",
   "version": "3.7.6"
  }
 },
 "nbformat": 4,
 "nbformat_minor": 2
}
