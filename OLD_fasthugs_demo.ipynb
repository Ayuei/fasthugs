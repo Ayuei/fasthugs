{
 "cells": [
  {
   "cell_type": "markdown",
   "metadata": {},
   "source": [
    "# FastHugs\n",
    "This notebook gives a full run through to fine-tune a text classification model with **HuggingFace 🤗 transformers** and the new **fastai-v2** library.\n",
    "\n",
    "## Things You Might Like (❤️ ?)\n",
    "**FastHugsTokenizer:** A tokenizer wrapper than can be used with fastai-v2's tokenizer.\n",
    "\n",
    "**FastHugsModel:** A model wrapper over the HF models, more or less the same to the wrapper's from HF fastai-v1 articles mentioned below\n",
    "\n",
    "**Vocab:** A function to extract the vocab depending on the pre-trained transformer (HF hasn't standardised this processes 😢).\n",
    "\n",
    "**Padding:** Padding settings for the padding token index and on whether the transformer prefers left or right padding\n",
    "\n",
    "**Vocab for Albert-base-v2**: .json for Albert-base-v2's vocab, otherwise this has to be extracted from a SentencePiece model file, which isn't fun\n",
    "\n",
    "**Model Splitters:** Functions to split the classification head from the model backbone in line with fastai-v2's new definition of `Learner`\n",
    "\n",
    "## Housekeeping\n",
    "### Pretrained Transformers only for now 😐\n",
    "Initially, this notebook will only deal with finetuning HuggingFace's pretrained models. It covers BERT, DistilBERT, RoBERTa and ALBERT pretrained classification models only. These are the core transformer model architectures where HuggingFace have added a classification head. HuggingFace also has other versions of these model architectures such as the core model architecture and language model model architectures.\n",
    "\n",
    "If you'd like to try train a model from scratch HuggingFace just recently published an article on [How to train a new language model from scratch using Transformers and Tokenizers](https://huggingface.co/blog/how-to-train). Its well worth reading to see how their `tokenizers` library can be used, independent of their pretrained transformer models.\n",
    "\n",
    "### Read these first 👇\n",
    "This notebooks heavily borrows from [this notebook](https://www.kaggle.com/melissarajaram/roberta-fastai-huggingface-transformers) , which in turn is based off of this [tutorial](https://www.kaggle.com/maroberti/fastai-with-transformers-bert-roberta) and accompanying [article](https://towardsdatascience.com/fastai-with-transformers-bert-roberta-xlnet-xlm-distilbert-4f41ee18ecb2). Huge thanks to  Melissa Rajaram and Maximilien Roberti for these great resources, if you're not familiar with the HuggingFace library please given them a read first as they are quite comprehensive.\n",
    "\n",
    "### fastai-v2  ✌️2️⃣\n",
    "[This paper](https://www.fast.ai/2020/02/13/fastai-A-Layered-API-for-Deep-Learning/) introduces the v2 version of the fastai library and you can follow and contribute to v2's progress [on the forums](https://forums.fast.ai/). This notebook uses the small IMDB dataset and is based off the [fastai-v2 ULMFiT tutorial](http://dev.fast.ai/tutorial.ulmfit). Huge thanks to Jeremy, Sylvain, Rachel and the fastai community for making this library what it is. I'm super excited about the additinal flexibility v2 brings. 🎉\n",
    "\n",
    "### Dependencies 📥\n",
    "If you haven't already, install HuggingFace's `transformers` library with: `pip install transformers`"
   ]
  },
  {
   "cell_type": "code",
   "execution_count": 1,
   "metadata": {},
   "outputs": [],
   "source": [
    "#hide\n",
    "# CUDA ERROR DEBUGGING\n",
    "# https://lernapparat.de/debug-device-assert/\n",
    "import os\n",
    "os.environ['CUDA_LAUNCH_BLOCKING'] = \"1\""
   ]
  },
  {
   "cell_type": "code",
   "execution_count": 2,
   "metadata": {},
   "outputs": [],
   "source": [
    "#hide\n",
    "%reload_ext autoreload\n",
    "%autoreload 2\n",
    "\n",
    "from fastai2.basics import *\n",
    "from fastai2.text.all import *\n",
    "from fastai2.callback.all import *\n",
    "\n",
    "from transformers import AlbertForSequenceClassification, AlbertTokenizer, AlbertConfig\n",
    "\n",
    "# from transformers import BertForSequenceClassification, BertTokenizer, BertConfig\n",
    "# from transformers import DistilBertForSequenceClassification, DistilBertTokenizer, DistilBertConfig\n",
    "# from transformers import RobertaForSequenceClassification, RobertaTokenizer, RobertaConfig\n",
    "import json"
   ]
  },
  {
   "cell_type": "code",
   "execution_count": 3,
   "metadata": {},
   "outputs": [],
   "source": [
    "#hide\n",
    "path = untar_data(URLs.IMDB_SAMPLE)\n",
    "model_path = Path('models')\n",
    "df = pd.read_csv(path/'texts.csv')"
   ]
  },
  {
   "cell_type": "markdown",
   "metadata": {},
   "source": [
    "## FastHugs Tokenizer\n",
    "This tokenizer wrapper is initialised with the pretrained HF tokenizer, you can also specify the max_seq_len if you want longer/shorter sequences. Given text it returns tokens and adds separator tokens depending on the model type being used."
   ]
  },
  {
   "cell_type": "code",
   "execution_count": 4,
   "metadata": {},
   "outputs": [],
   "source": [
    "class FastHugsTokenizer():\n",
    "    \"\"\" \n",
    "        transformer_tokenizer : takes the tokenizer that has been loaded from the tokenizer class\n",
    "        model_type : model type set by the user\n",
    "        max_len : override default sequence length, typically 512 for bert-like models\n",
    "    \"\"\"\n",
    "    def __init__(self, transformer_tokenizer=None, model_name = 'roberta', max_seq_len=None, **kwargs): \n",
    "        self.tok = transformer_tokenizer\n",
    "        self.max_seq_len = ifnone(max_seq_len, self.tok.max_len)\n",
    "        self.model_name = model_name\n",
    "        self.pad_token_id = self.tok.pad_token_id\n",
    "        \n",
    "    def do_tokenize(self, t:str):\n",
    "        \"\"\"Limits the maximum sequence length and add the special tokens\"\"\"\n",
    "        CLS = self.tok.cls_token\n",
    "        SEP = self.tok.sep_token\n",
    "#         import pdb\n",
    "#         pdb.set_trace()\n",
    "        #print(t)\n",
    "        if 'roberta' in model_name:\n",
    "            tokens = self.tok.tokenize(t, add_prefix_space=True)[:self.max_seq_len - 2]\n",
    "        else:\n",
    "            tokens = self.tok.tokenize(t)[:self.max_seq_len - 2]\n",
    "        #print(tokens)\n",
    "        return [CLS] + tokens + [SEP]\n",
    "\n",
    "    def __call__(self, items): \n",
    "        for t in items: yield self.do_tokenize(t)"
   ]
  },
  {
   "cell_type": "markdown",
   "metadata": {},
   "source": [
    "## FastHugs Model\n",
    "This `nn.module` wraps the pretrained transformer model, initialises it with is config file. If you'd like to make configuration changes to the model, you can do so in this class. The `forward` of this module is taken straight from Melissa's notebook above and its purpose is to create the attention mask and grab only the logits from the output of the model (as the HF transformer models also output the loss)."
   ]
  },
  {
   "cell_type": "code",
   "execution_count": 5,
   "metadata": {
    "scrolled": true
   },
   "outputs": [],
   "source": [
    "# More or less copy-paste from https://www.kaggle.com/melissarajaram/roberta-fastai-huggingface-transformers/data\n",
    "class FastHugsModel(nn.Module):\n",
    "    def __init__(self, pretrained_model_name, model_class, config_dict, n_class, max_seq_len=None):\n",
    "        super(FastHugsModel, self).__init__()\n",
    "        self.config = config_dict  #config_class.from_pretrained(pretrained_model_name)\n",
    "        self.config.num_labels = n_class\n",
    "        if max_seq_len is not None: self.config.max_position_embeddings = max_len\n",
    "        \n",
    "        self.transformer = model_class.from_pretrained(pretrained_model_name, config = self.config, \n",
    "                                    cache_dir=model_path/f'{pretrained_model_name}')\n",
    "        \n",
    "    def forward(self, input_ids, attention_mask=None):\n",
    "        attention_mask = (input_ids!=1).type(input_ids.type()) \n",
    "        logits = self.transformer(input_ids, attention_mask = attention_mask)[0] \n",
    "        return logits"
   ]
  },
  {
   "cell_type": "markdown",
   "metadata": {},
   "source": [
    "## Padding\n",
    "Pass the initialised transformer tokenizer to set the index for the padding token and the side padding should be applied; e.g. BERT, Roberta prefers padding to the right, so we set `pad_first=False`"
   ]
  },
  {
   "cell_type": "code",
   "execution_count": 6,
   "metadata": {},
   "outputs": [],
   "source": [
    "def transformer_padding(transformer_tokenizer): \n",
    "    if transformer_tokenizer.padding_side == 'right': \n",
    "        pad_first=False\n",
    "    return partial(pad_input_chunk, pad_first=pad_first, pad_idx=transformer_tokenizer.pad_token_id)"
   ]
  },
  {
   "cell_type": "markdown",
   "metadata": {},
   "source": [
    "## Lets get training\n",
    "### Select our HuggingFace model, tokenzier and config"
   ]
  },
  {
   "cell_type": "markdown",
   "metadata": {},
   "source": [
    "Grab the model, tokenizer and config that we'd like to use"
   ]
  },
  {
   "cell_type": "code",
   "execution_count": 7,
   "metadata": {
    "scrolled": true
   },
   "outputs": [],
   "source": [
    "from transformers import AutoModelForSequenceClassification, AutoTokenizer, AutoConfig\n",
    "\n",
    "model_name = 'roberta-base' \n",
    "\n",
    "model_class = AutoModelForSequenceClassification.from_pretrained(model_name)\n",
    "tokenizer_class = AutoTokenizer.from_pretrained(model_name)\n",
    "config_dict = AutoConfig.from_pretrained(model_name)\n",
    "tfmr_splitter = model_name.split('-')[0] + '_clas_splitter'"
   ]
  },
  {
   "cell_type": "code",
   "execution_count": 8,
   "metadata": {},
   "outputs": [],
   "source": [
    "#model_class, tokenizer_class, config_class, pretrained_model_name, tfmr_splitter = models_dict[model_type]"
   ]
  },
  {
   "cell_type": "markdown",
   "metadata": {},
   "source": [
    "We can also change the max sequence length for the tokenizer and transformer here. If its not set it will default to the pretrained model's default, typically `512`. 1024 or even 2048 can also be used depending on your GPU memory"
   ]
  },
  {
   "cell_type": "code",
   "execution_count": 9,
   "metadata": {},
   "outputs": [],
   "source": [
    "max_seq_len = None  "
   ]
  },
  {
   "cell_type": "markdown",
   "metadata": {},
   "source": [
    "## Geting HuggingFace Tokenizer into fastai-v2\n",
    "Intialise the tokenizer needed for the pretrained model, this will download the `vocab.json` and `merges.txt` files needed. Specifying `cache_dir` will allow us easily access them, otherwise they will be saved to a Torch cache folder here `~/.cache/torch/transformers`. "
   ]
  },
  {
   "cell_type": "code",
   "execution_count": 10,
   "metadata": {},
   "outputs": [],
   "source": [
    "transformer_tokenizer = tokenizer_class.from_pretrained(model_name, cache_dir=model_path/f'{model_name}')"
   ]
  },
  {
   "cell_type": "markdown",
   "metadata": {},
   "source": [
    "**Create fasthugstok function:** Lets incorporate the `transformer_tokenizer` into fastai-v2's framework by specifying a fucntion to pass to `Tokenizer.from_df`. (Note `from_df` is the only method I have tested)"
   ]
  },
  {
   "cell_type": "code",
   "execution_count": 11,
   "metadata": {
    "scrolled": true
   },
   "outputs": [],
   "source": [
    "fasthugstok = partial(FastHugsTokenizer, transformer_tokenizer = transformer_tokenizer, \n",
    "                      model_name=model_name, max_seq_len=None)"
   ]
  },
  {
   "cell_type": "markdown",
   "metadata": {},
   "source": [
    "**Set up fastai-v2's Tokenizer.from_df:** We pass `rules=[]` to override fastai's default text processing rules"
   ]
  },
  {
   "cell_type": "code",
   "execution_count": 12,
   "metadata": {},
   "outputs": [],
   "source": [
    "tok_fn = Tokenizer.from_df(text_cols='text', res_col_name='text', tok_func=fasthugstok, rules=[])"
   ]
  },
  {
   "cell_type": "markdown",
   "metadata": {},
   "source": [
    " ## Vocab\n",
    " Model and vocab files will be saved with files names as a long string of digits and letters (e.g. `d9fc1956a0....f4cfdb5feda.json` generated from the etag from the AWS S3 bucket as described [here in the HuggingFace repo](https://github.com/huggingface/transformers/issues/2157). For readability I prefer to save the files in a specified directory and model name so that it can be easily found and accessed in future.\n",
    " \n",
    "(Note: To avoid saving these files twice you could look at the `from_pretrained` and `cached_path` functions in HuggingFace's `PreTrainedTokenizer` class definition to find the code that downloads the files and maybe modify them to download directly to your specified directory withe desired name. I haven't had time to go that deep.)\n",
    "\n",
    "Load vocab file into a `list` as expected by fastai-v2. The HF pretrained tokenizer vocabs come in different file formats depending on the tokenizer you're using; BERT's vocab is saved as a .txt file, RoBERTa's is saved as a .json and Albert's has to be extracted from a SentencePiece model"
   ]
  },
  {
   "cell_type": "code",
   "execution_count": 13,
   "metadata": {},
   "outputs": [],
   "source": [
    "def get_vocab(transformer_tokenizer, pretrained_model_name):\n",
    "    if pretrained_model_name in ['bert-base-uncased', 'distilbert-base-uncased']:\n",
    "        transformer_vocab = list(transformer_tokenizer.vocab.keys())\n",
    "    else:\n",
    "        transformer_tokenizer.save_vocabulary(model_path/f'{pretrained_model_name}')\n",
    "        suff = 'json'\n",
    "        if pretrained_model_name in ['albert-base-v2']:\n",
    "            with open(model_path/f'{pretrained_model_name}/alberta_v2_vocab.{suff}', 'r') as f: \n",
    "                transformer_vocab = json.load(f) \n",
    "        else:\n",
    "            with open(model_path/f'{pretrained_model_name}/vocab.{suff}', 'r') as f: \n",
    "                transformer_vocab = list(json.load(f).keys()) \n",
    "    return transformer_vocab"
   ]
  },
  {
   "cell_type": "code",
   "execution_count": 14,
   "metadata": {},
   "outputs": [],
   "source": [
    "transformer_vocab = get_vocab(transformer_tokenizer, model_name)"
   ]
  },
  {
   "cell_type": "markdown",
   "metadata": {},
   "source": [
    "## Setup Data\n",
    "### Create Dataset\n",
    "Lets add our custom tokenizer function (`tok_fn`) and `transformer_vocab` here"
   ]
  },
  {
   "cell_type": "code",
   "execution_count": 15,
   "metadata": {
    "scrolled": true
   },
   "outputs": [
    {
     "data": {
      "text/html": [],
      "text/plain": [
       "<IPython.core.display.HTML object>"
      ]
     },
     "metadata": {},
     "output_type": "display_data"
    }
   ],
   "source": [
    "splits = ColSplitter()(df)\n",
    "x_tfms = [attrgetter(\"text\"), tok_fn, Numericalize(vocab=transformer_vocab)]\n",
    "dsets = Datasets(df, splits=splits, tfms=[x_tfms, [attrgetter(\"label\"), Categorize()]], dl_type=SortedDL)"
   ]
  },
  {
   "cell_type": "markdown",
   "metadata": {},
   "source": [
    "### Dataloaders\n",
    "Here we use our `transformer_padding()` wrapper when loading the dataloader"
   ]
  },
  {
   "cell_type": "code",
   "execution_count": 16,
   "metadata": {},
   "outputs": [],
   "source": [
    "bs = 4\n",
    "dls = dsets.dataloaders(bs=bs, before_batch=transformer_padding(transformer_tokenizer))"
   ]
  },
  {
   "cell_type": "code",
   "execution_count": 17,
   "metadata": {},
   "outputs": [
    {
     "data": {
      "text/html": [
       "<table border=\"1\" class=\"dataframe\">\n",
       "  <thead>\n",
       "    <tr style=\"text-align: right;\">\n",
       "      <th></th>\n",
       "      <th>text</th>\n",
       "      <th>category</th>\n",
       "    </tr>\n",
       "  </thead>\n",
       "  <tbody>\n",
       "    <tr>\n",
       "      <th>0</th>\n",
       "      <td>&lt;s&gt; ĠI Ġwas Ġfortunate Ġenough Ġto Ġmeet ĠGeorge ĠPal Ġ( and Ġstill Ġhave Ġmy ĠDS : TM OB Ġposter Ġaut ographed Ġby Ġhim ) Ġat Ġa Ġconvention Ġshortly Ġafter Ġthe Ġrelease , Ġand Ġasked Ġhim Ġwhy Ġhe Ġchose Ġto Ġdo Ġthe Ġfilm Ġ\" camp \". ĠBefore Ġhe Ġcould Ġanswer , Ġtwo Ġstudio Ġfl acks Ġintercepted Ġand Ġlect ured Ġme Ġon</td>\n",
       "      <td>negative</td>\n",
       "    </tr>\n",
       "    <tr>\n",
       "      <th>1</th>\n",
       "      <td>&lt;s&gt; ĠThe ĠBl ob Ġstarts Ġwith Ġone Ġof Ġthe Ġmost Ġbizarre Ġtheme Ġsongs Ġever , Ġsung Ġby Ġan Ġunc redited ĠB urt ĠBach ar ach Ġof Ġall Ġpeople ! ĠYou Ġreally Ġhave Ġto Ġhear Ġit Ġto Ġbelieve Ġit , ĠThe ĠBl ob Ġmay Ġbe Ġworth Ġwatching Ġjust Ġfor Ġthis Ġsong Ġalone Ġ&amp; Ġmy Ġuser Ġcomment Ġsummary Ġis Ġjust Ġa Ġlittle</td>\n",
       "      <td>negative</td>\n",
       "    </tr>\n",
       "    <tr>\n",
       "      <th>2</th>\n",
       "      <td>&lt;s&gt; ĠA Ġgroup Ġof Ġmodel - caliber ĠSan ĠFrancisco Ġwomen Ġwho Ġhave Ġbeen Ġfriends Ġsince Ġelementary Ġschool Ġare Ġsuddenly Ġbeing Ġthreatened Ġand Ġattacked Ġby Ġsomeone Ġsending Ġthem Ġbizarre ĠValentine 's ĠDay Ġcards . ĠWho Ġis Ġthe Ġkiller Ġand Ġwhy Ġis Ġthe Ġkiller Ġafter Ġthem ? Ġ&lt; br Ġ/ &gt;&lt; br Ġ/&gt; My Ġrating Ġwill Ġoften Ġchange Ġon Ġsubsequent Ġview ings</td>\n",
       "      <td>positive</td>\n",
       "    </tr>\n",
       "  </tbody>\n",
       "</table>"
      ],
      "text/plain": [
       "<IPython.core.display.HTML object>"
      ]
     },
     "metadata": {},
     "output_type": "display_data"
    }
   ],
   "source": [
    "dls.show_batch(max_n=3, trunc_at=60)"
   ]
  },
  {
   "cell_type": "markdown",
   "metadata": {},
   "source": [
    "### (Alternatively) Factory dataloader\n",
    "Here we set:\n",
    "- `tok_tfm=tok_fn` to use our HF tokenizer\n",
    "- `text_vocab=transformer_vocab` to load our pretrained vocab\n",
    "- `before_batch=transformer_padding(transformer_tokenizer)` to use our custom padding function "
   ]
  },
  {
   "cell_type": "code",
   "execution_count": 18,
   "metadata": {},
   "outputs": [
    {
     "data": {
      "text/html": [],
      "text/plain": [
       "<IPython.core.display.HTML object>"
      ]
     },
     "metadata": {},
     "output_type": "display_data"
    }
   ],
   "source": [
    "# Factory\n",
    "fct_dls = TextDataLoaders.from_df(df, text_col=\"text\", tok_tfm=tok_fn, text_vocab=transformer_vocab,\n",
    "                              before_batch=transformer_padding(transformer_tokenizer),\n",
    "                              label_col='label', valid_col='is_valid', bs=bs)"
   ]
  },
  {
   "cell_type": "code",
   "execution_count": 19,
   "metadata": {},
   "outputs": [
    {
     "data": {
      "text/html": [
       "<table border=\"1\" class=\"dataframe\">\n",
       "  <thead>\n",
       "    <tr style=\"text-align: right;\">\n",
       "      <th></th>\n",
       "      <th>text</th>\n",
       "      <th>category</th>\n",
       "    </tr>\n",
       "  </thead>\n",
       "  <tbody>\n",
       "    <tr>\n",
       "      <th>0</th>\n",
       "      <td>&lt;s&gt; ĠI Ġwas Ġfortunate Ġenough Ġto Ġmeet ĠGeorge ĠPal Ġ( and Ġstill Ġhave Ġmy ĠDS : TM OB Ġposter Ġaut ographed Ġby Ġhim ) Ġat Ġa Ġconvention Ġshortly Ġafter Ġthe Ġrelease , Ġand Ġasked Ġhim Ġwhy Ġhe Ġchose Ġto Ġdo Ġthe Ġfilm Ġ\" camp \". ĠBefore Ġhe Ġcould Ġanswer , Ġtwo Ġstudio Ġfl acks Ġintercepted Ġand Ġlect ured Ġme Ġon</td>\n",
       "      <td>negative</td>\n",
       "    </tr>\n",
       "    <tr>\n",
       "      <th>1</th>\n",
       "      <td>&lt;s&gt; ĠI Ġmight Ġnot Ġbe Ġa Ġhuge Ġadmire r Ġof Ġthe Ġoriginal Ġ\" Cre ep show \", Ġbut Ġits Ġtrash y Ġsequel Ġmakes Ġthat Ġanthology Ġlook Ġlike Ġperfection ! ĠAnd Ġto Ġthink ĠI Ġwas Ġgoing Ġinto Ġthis Ġexpecting Ġto Ġlike Ġthis Ġone Ġmore . ĠFive Ġyears Ġafter Ġits Ġpredecessor , ĠGeorge ĠRomero Ġgets Ġback Ġon Ġboard Ġthe ĠEC ĠComic Ġstyle</td>\n",
       "      <td>negative</td>\n",
       "    </tr>\n",
       "    <tr>\n",
       "      <th>2</th>\n",
       "      <td>&lt;s&gt; ĠThis Ġis Ġnot Ġreally Ġa Ġzombie Ġfilm , Ġif Ġwe 're Ġdefining Ġzombies Ġas Ġthe Ġdead Ġwalking Ġaround . ĠHere Ġthe Ġprotagonist , ĠArm and ĠLou que Ġ( played Ġby Ġan Ġunbelievably Ġyoung ĠDean ĠJ agger ), Ġgains Ġcontrol Ġof Ġa Ġmethod Ġto Ġcreate Ġzombies , Ġthough Ġin Ġfact , Ġhis Ġ' method ' Ġis Ġto Ġmentally Ġproject Ġhis</td>\n",
       "      <td>negative</td>\n",
       "    </tr>\n",
       "  </tbody>\n",
       "</table>"
      ],
      "text/plain": [
       "<IPython.core.display.HTML object>"
      ]
     },
     "metadata": {},
     "output_type": "display_data"
    }
   ],
   "source": [
    "fct_dls.show_batch(max_n=3, trunc_at=60)"
   ]
  },
  {
   "cell_type": "markdown",
   "metadata": {},
   "source": [
    "## Model Splitters\n",
    "HuggingFace's models with names such as: `RobertaForSequenceClassification` are core transformer models with a classification head. Lets split the classification head from the core transformer backbone to enable us use progressive unfreezing and differential learning rates.\n",
    "\n",
    "You can split the model into 3 groups by modifying the splitter function like so:\n",
    "\n",
    "`\n",
    "def roberta_clas_splitter(m):\n",
    "    \"Split the classifier head from the backbone\"\n",
    "    groups = [nn.Sequential(m.transformer.roberta.embeddings,\n",
    "                  m.transformer.roberta.encoder.layer[0],\n",
    "                  m.transformer.roberta.encoder.layer[1],\n",
    "                  m.transformer.roberta.encoder.layer[2],\n",
    "                  m.transformer.roberta.encoder.layer[3],\n",
    "                  m.transformer.roberta.encoder.layer[4],\n",
    "                  m.transformer.roberta.encoder.layer[5],\n",
    "                  m.transformer.roberta.encoder.layer[6],\n",
    "                  m.transformer.roberta.encoder.layer[7],\n",
    "                  m.transformer.roberta.encoder.layer[8])]\n",
    "    groups+= [nn.Sequential(m.transformer.roberta.encoder.layer[9],\n",
    "                  m.transformer.roberta.encoder.layer[10],\n",
    "                  m.transformer.roberta.encoder.layer[11],\n",
    "                  m.transformer.roberta.pooler)]\n",
    "    groups = L(groups + [m.transformer.classifier])\n",
    "    return groups.map(params)\n",
    "`\n",
    "\n",
    "**Classification Head Differences**\n",
    "\n",
    "Interestingly, BERT's classification head is different to RoBERTa's\n",
    "\n",
    "BERT + ALBERT:\n",
    "\n",
    "`\n",
    "(dropout): Dropout(p=0.1, inplace=False)\n",
    "(classifier): Linear(in_features=768, out_features=2, bias=True)\n",
    "`\n",
    "\n",
    "DistilBERT's has a \"pre-classifier\" layer:\n",
    "\n",
    "`\n",
    "(pre_classifier): Linear(in_features=768, out_features=768, bias=True)\n",
    "(classifier): Linear(in_features=768, out_features=2, bias=True)\n",
    "(dropout): Dropout(p=0.2, inplace=False)`\n",
    "\n",
    "RoBERTa's:\n",
    "\n",
    "`(classifier): RobertaClassificationHead(\n",
    "    (dense): Linear(in_features=768, out_features=768, bias=True)\n",
    "    (dropout): Dropout(p=0.1, inplace=False)\n",
    "    (out_proj): Linear(in_features=768, out_features=2, bias=True))`"
   ]
  },
  {
   "cell_type": "code",
   "execution_count": 20,
   "metadata": {},
   "outputs": [],
   "source": [
    "def bert_clas_splitter(m):\n",
    "    \"Split the classifier head from the backbone\"\n",
    "    groups = [nn.Sequential(m.transformer.bert.embeddings,\n",
    "                m.transformer.bert.encoder.layer[0],\n",
    "                m.transformer.bert.encoder.layer[1],\n",
    "                m.transformer.bert.encoder.layer[2],\n",
    "                m.transformer.bert.encoder.layer[3],\n",
    "                m.transformer.bert.encoder.layer[4],\n",
    "                m.transformer.bert.encoder.layer[5],\n",
    "                m.transformer.bert.encoder.layer[6],\n",
    "                m.transformer.bert.encoder.layer[7],\n",
    "                m.transformer.bert.encoder.layer[8],\n",
    "                m.transformer.bert.encoder.layer[9],\n",
    "                m.transformer.bert.encoder.layer[10],\n",
    "                m.transformer.bert.encoder.layer[11],\n",
    "                m.transformer.bert.pooler)]\n",
    "    groups = L(groups + [m.transformer.classifier]) \n",
    "    return groups.map(params)"
   ]
  },
  {
   "cell_type": "code",
   "execution_count": 21,
   "metadata": {},
   "outputs": [],
   "source": [
    "def albert_clas_splitter(m):\n",
    "    groups = [nn.Sequential(m.transformer.albert.embeddings,\n",
    "                m.transformer.albert.encoder.embedding_hidden_mapping_in, \n",
    "                m.transformer.albert.encoder.albert_layer_groups,\n",
    "                m.transformer.albert.pooler)]\n",
    "    groups = L(groups + [m.transformer.classifier]) \n",
    "    return groups.map(params)"
   ]
  },
  {
   "cell_type": "code",
   "execution_count": 22,
   "metadata": {},
   "outputs": [],
   "source": [
    "def distilbert_clas_splitter(m):\n",
    "    groups = [nn.Sequential(m.transformer.distilbert.embeddings,\n",
    "                m.transformer.distilbert.transformer.layer[0], \n",
    "                m.transformer.distilbert.transformer.layer[1],\n",
    "                m.transformer.distilbert.transformer.layer[2],\n",
    "                m.transformer.distilbert.transformer.layer[3],\n",
    "                m.transformer.distilbert.transformer.layer[4],\n",
    "                m.transformer.distilbert.transformer.layer[5],\n",
    "                m.transformer.pre_classifier)]\n",
    "    groups = L(groups + [m.transformer.classifier]) \n",
    "    return groups.map(params)"
   ]
  },
  {
   "cell_type": "code",
   "execution_count": 23,
   "metadata": {},
   "outputs": [],
   "source": [
    "def roberta_clas_splitter(m):\n",
    "    \"Split the classifier head from the backbone\"\n",
    "    groups = [nn.Sequential(m.transformer.roberta.embeddings,\n",
    "                  m.transformer.roberta.encoder.layer[0],\n",
    "                  m.transformer.roberta.encoder.layer[1],\n",
    "                  m.transformer.roberta.encoder.layer[2],\n",
    "                  m.transformer.roberta.encoder.layer[3],\n",
    "                  m.transformer.roberta.encoder.layer[4],\n",
    "                  m.transformer.roberta.encoder.layer[5],\n",
    "                  m.transformer.roberta.encoder.layer[6],\n",
    "                  m.transformer.roberta.encoder.layer[7],\n",
    "                  m.transformer.roberta.encoder.layer[8],\n",
    "                  m.transformer.roberta.encoder.layer[9],\n",
    "                  m.transformer.roberta.encoder.layer[10],\n",
    "                  m.transformer.roberta.encoder.layer[11],\n",
    "                  m.transformer.roberta.pooler)]\n",
    "    groups = L(groups + [m.transformer.classifier])\n",
    "    return groups.map(params)"
   ]
  },
  {
   "cell_type": "code",
   "execution_count": 24,
   "metadata": {},
   "outputs": [],
   "source": [
    "splitters = {'bert_clas_splitter':bert_clas_splitter,\n",
    "            'albert_clas_splitter':albert_clas_splitter,\n",
    "            'distilbert_clas_splitter':distilbert_clas_splitter,\n",
    "            'roberta_clas_splitter':roberta_clas_splitter}"
   ]
  },
  {
   "cell_type": "markdown",
   "metadata": {},
   "source": [
    "### Load Model with configs"
   ]
  },
  {
   "cell_type": "markdown",
   "metadata": {},
   "source": [
    "Here we can tweak the HuggingFace model's config file before loading the model"
   ]
  },
  {
   "cell_type": "code",
   "execution_count": 25,
   "metadata": {},
   "outputs": [],
   "source": [
    "class FastHugsModel(nn.Module):\n",
    "    def __init__(self, transformer, config_dict, n_class, max_seq_len=None):\n",
    "        super(FastHugsModel, self).__init__()\n",
    "        self.config = config_dict  #config_class.from_pretrained(pretrained_model_name)\n",
    "        self.config.num_labels = n_class\n",
    "        if max_seq_len is not None: self.config.max_position_embeddings = max_len\n",
    "        self.transformer = transformer\n",
    "        \n",
    "#         self.transformer = model_class.from_pretrained(pretrained_model_name, config = self.config, \n",
    "#                                     cache_dir=model_path/f'{pretrained_model_name}')\n",
    "        \n",
    "    def forward(self, input_ids, attention_mask=None):\n",
    "        attention_mask = (input_ids!=1).type(input_ids.type()) \n",
    "        logits = self.transformer(input_ids, attention_mask = attention_mask)[0] \n",
    "        return logits"
   ]
  },
  {
   "cell_type": "code",
   "execution_count": 26,
   "metadata": {
    "scrolled": true
   },
   "outputs": [],
   "source": [
    "fasthugs_model = FastHugsModel(transformer=model_class, config_dict=config_dict, \n",
    "                               n_class=dls.c, max_seq_len=max_seq_len)"
   ]
  },
  {
   "cell_type": "code",
   "execution_count": 27,
   "metadata": {
    "scrolled": true
   },
   "outputs": [],
   "source": [
    "# fasthugs_model = FastHugsModel(model_class=model_class, config_class=config_dict,\n",
    "#                                pretrained_model_name = model_name, \n",
    "#                                n_class=dsets.c, max_seq_len=max_seq_len)"
   ]
  },
  {
   "cell_type": "markdown",
   "metadata": {},
   "source": [
    "Initialise everything our Learner"
   ]
  },
  {
   "cell_type": "code",
   "execution_count": 28,
   "metadata": {},
   "outputs": [],
   "source": [
    "opt_func = partial(Adam, decouple_wd=True)\n",
    "\n",
    "#cbs = [MixedPrecision(clip=0.1), SaveModelCallback()]\n",
    "\n",
    "loss = CrossEntropyLossFlat() #LabelSmoothingCrossEntropy\n",
    "\n",
    "splitter = splitters[tfmr_splitter]"
   ]
  },
  {
   "cell_type": "markdown",
   "metadata": {},
   "source": [
    "## Time to train\n",
    "### Create our learner"
   ]
  },
  {
   "cell_type": "code",
   "execution_count": 29,
   "metadata": {
    "scrolled": true
   },
   "outputs": [],
   "source": [
    "learn = Learner(dls, fasthugs_model, opt_func=opt_func, splitter=splitter, \n",
    "                loss_func=loss, #cbs=cbs, \n",
    "                metrics=[accuracy]).to_fp16()"
   ]
  },
  {
   "cell_type": "markdown",
   "metadata": {},
   "source": [
    "### Stage 1 training\n",
    "Lets freeze the model backbone and only train the classifier head. `freeze_to(1)` means that only the classifier head is trainable"
   ]
  },
  {
   "cell_type": "code",
   "execution_count": 30,
   "metadata": {
    "scrolled": true
   },
   "outputs": [],
   "source": [
    "learn.freeze_to(1)  "
   ]
  },
  {
   "cell_type": "code",
   "execution_count": 31,
   "metadata": {
    "scrolled": true
   },
   "outputs": [
    {
     "data": {
      "text/plain": [
       "FastHugsModel (Input shape: ['4 x 512'])\n",
       "================================================================\n",
       "Layer (type)         Output Shape         Param #    Trainable \n",
       "================================================================\n",
       "Embedding            4 x 512 x 768        38,603,520 False     \n",
       "________________________________________________________________\n",
       "Embedding            4 x 512 x 768        394,752    False     \n",
       "________________________________________________________________\n",
       "Embedding            4 x 512 x 768        768        False     \n",
       "________________________________________________________________\n",
       "LayerNorm            4 x 512 x 768        1,536      False     \n",
       "________________________________________________________________\n",
       "Dropout              4 x 512 x 768        0          False     \n",
       "________________________________________________________________\n",
       "Linear               4 x 512 x 768        590,592    False     \n",
       "________________________________________________________________\n",
       "Linear               4 x 512 x 768        590,592    False     \n",
       "________________________________________________________________\n",
       "Linear               4 x 512 x 768        590,592    False     \n",
       "________________________________________________________________\n",
       "Dropout              4 x 12 x 512 x 512   0          False     \n",
       "________________________________________________________________\n",
       "Linear               4 x 512 x 768        590,592    False     \n",
       "________________________________________________________________\n",
       "LayerNorm            4 x 512 x 768        1,536      False     \n",
       "________________________________________________________________\n",
       "Dropout              4 x 512 x 768        0          False     \n",
       "________________________________________________________________\n",
       "Linear               4 x 512 x 3072       2,362,368  False     \n",
       "________________________________________________________________\n",
       "Linear               4 x 512 x 768        2,360,064  False     \n",
       "________________________________________________________________\n",
       "LayerNorm            4 x 512 x 768        1,536      False     \n",
       "________________________________________________________________\n",
       "Dropout              4 x 512 x 768        0          False     \n",
       "________________________________________________________________\n",
       "Linear               4 x 512 x 768        590,592    False     \n",
       "________________________________________________________________\n",
       "Linear               4 x 512 x 768        590,592    False     \n",
       "________________________________________________________________\n",
       "Linear               4 x 512 x 768        590,592    False     \n",
       "________________________________________________________________\n",
       "Dropout              4 x 12 x 512 x 512   0          False     \n",
       "________________________________________________________________\n",
       "Linear               4 x 512 x 768        590,592    False     \n",
       "________________________________________________________________\n",
       "LayerNorm            4 x 512 x 768        1,536      False     \n",
       "________________________________________________________________\n",
       "Dropout              4 x 512 x 768        0          False     \n",
       "________________________________________________________________\n",
       "Linear               4 x 512 x 3072       2,362,368  False     \n",
       "________________________________________________________________\n",
       "Linear               4 x 512 x 768        2,360,064  False     \n",
       "________________________________________________________________\n",
       "LayerNorm            4 x 512 x 768        1,536      False     \n",
       "________________________________________________________________\n",
       "Dropout              4 x 512 x 768        0          False     \n",
       "________________________________________________________________\n",
       "Linear               4 x 512 x 768        590,592    False     \n",
       "________________________________________________________________\n",
       "Linear               4 x 512 x 768        590,592    False     \n",
       "________________________________________________________________\n",
       "Linear               4 x 512 x 768        590,592    False     \n",
       "________________________________________________________________\n",
       "Dropout              4 x 12 x 512 x 512   0          False     \n",
       "________________________________________________________________\n",
       "Linear               4 x 512 x 768        590,592    False     \n",
       "________________________________________________________________\n",
       "LayerNorm            4 x 512 x 768        1,536      False     \n",
       "________________________________________________________________\n",
       "Dropout              4 x 512 x 768        0          False     \n",
       "________________________________________________________________\n",
       "Linear               4 x 512 x 3072       2,362,368  False     \n",
       "________________________________________________________________\n",
       "Linear               4 x 512 x 768        2,360,064  False     \n",
       "________________________________________________________________\n",
       "LayerNorm            4 x 512 x 768        1,536      False     \n",
       "________________________________________________________________\n",
       "Dropout              4 x 512 x 768        0          False     \n",
       "________________________________________________________________\n",
       "Linear               4 x 512 x 768        590,592    False     \n",
       "________________________________________________________________\n",
       "Linear               4 x 512 x 768        590,592    False     \n",
       "________________________________________________________________\n",
       "Linear               4 x 512 x 768        590,592    False     \n",
       "________________________________________________________________\n",
       "Dropout              4 x 12 x 512 x 512   0          False     \n",
       "________________________________________________________________\n",
       "Linear               4 x 512 x 768        590,592    False     \n",
       "________________________________________________________________\n",
       "LayerNorm            4 x 512 x 768        1,536      False     \n",
       "________________________________________________________________\n",
       "Dropout              4 x 512 x 768        0          False     \n",
       "________________________________________________________________\n",
       "Linear               4 x 512 x 3072       2,362,368  False     \n",
       "________________________________________________________________\n",
       "Linear               4 x 512 x 768        2,360,064  False     \n",
       "________________________________________________________________\n",
       "LayerNorm            4 x 512 x 768        1,536      False     \n",
       "________________________________________________________________\n",
       "Dropout              4 x 512 x 768        0          False     \n",
       "________________________________________________________________\n",
       "Linear               4 x 512 x 768        590,592    False     \n",
       "________________________________________________________________\n",
       "Linear               4 x 512 x 768        590,592    False     \n",
       "________________________________________________________________\n",
       "Linear               4 x 512 x 768        590,592    False     \n",
       "________________________________________________________________\n",
       "Dropout              4 x 12 x 512 x 512   0          False     \n",
       "________________________________________________________________\n",
       "Linear               4 x 512 x 768        590,592    False     \n",
       "________________________________________________________________\n",
       "LayerNorm            4 x 512 x 768        1,536      False     \n",
       "________________________________________________________________\n",
       "Dropout              4 x 512 x 768        0          False     \n",
       "________________________________________________________________\n",
       "Linear               4 x 512 x 3072       2,362,368  False     \n",
       "________________________________________________________________\n",
       "Linear               4 x 512 x 768        2,360,064  False     \n",
       "________________________________________________________________\n",
       "LayerNorm            4 x 512 x 768        1,536      False     \n",
       "________________________________________________________________\n",
       "Dropout              4 x 512 x 768        0          False     \n",
       "________________________________________________________________\n",
       "Linear               4 x 512 x 768        590,592    False     \n",
       "________________________________________________________________\n",
       "Linear               4 x 512 x 768        590,592    False     \n",
       "________________________________________________________________\n",
       "Linear               4 x 512 x 768        590,592    False     \n",
       "________________________________________________________________\n",
       "Dropout              4 x 12 x 512 x 512   0          False     \n",
       "________________________________________________________________\n",
       "Linear               4 x 512 x 768        590,592    False     \n",
       "________________________________________________________________\n",
       "LayerNorm            4 x 512 x 768        1,536      False     \n",
       "________________________________________________________________\n",
       "Dropout              4 x 512 x 768        0          False     \n",
       "________________________________________________________________\n",
       "Linear               4 x 512 x 3072       2,362,368  False     \n",
       "________________________________________________________________\n",
       "Linear               4 x 512 x 768        2,360,064  False     \n",
       "________________________________________________________________\n",
       "LayerNorm            4 x 512 x 768        1,536      False     \n",
       "________________________________________________________________\n",
       "Dropout              4 x 512 x 768        0          False     \n",
       "________________________________________________________________\n",
       "Linear               4 x 512 x 768        590,592    False     \n",
       "________________________________________________________________\n",
       "Linear               4 x 512 x 768        590,592    False     \n",
       "________________________________________________________________\n",
       "Linear               4 x 512 x 768        590,592    False     \n",
       "________________________________________________________________\n",
       "Dropout              4 x 12 x 512 x 512   0          False     \n",
       "________________________________________________________________\n",
       "Linear               4 x 512 x 768        590,592    False     \n",
       "________________________________________________________________\n",
       "LayerNorm            4 x 512 x 768        1,536      False     \n",
       "________________________________________________________________\n",
       "Dropout              4 x 512 x 768        0          False     \n",
       "________________________________________________________________\n",
       "Linear               4 x 512 x 3072       2,362,368  False     \n",
       "________________________________________________________________\n",
       "Linear               4 x 512 x 768        2,360,064  False     \n",
       "________________________________________________________________\n",
       "LayerNorm            4 x 512 x 768        1,536      False     \n",
       "________________________________________________________________\n",
       "Dropout              4 x 512 x 768        0          False     \n",
       "________________________________________________________________\n",
       "Linear               4 x 512 x 768        590,592    False     \n",
       "________________________________________________________________\n",
       "Linear               4 x 512 x 768        590,592    False     \n",
       "________________________________________________________________\n",
       "Linear               4 x 512 x 768        590,592    False     \n",
       "________________________________________________________________\n",
       "Dropout              4 x 12 x 512 x 512   0          False     \n",
       "________________________________________________________________\n",
       "Linear               4 x 512 x 768        590,592    False     \n",
       "________________________________________________________________\n",
       "LayerNorm            4 x 512 x 768        1,536      False     \n",
       "________________________________________________________________\n",
       "Dropout              4 x 512 x 768        0          False     \n",
       "________________________________________________________________\n",
       "Linear               4 x 512 x 3072       2,362,368  False     \n",
       "________________________________________________________________\n",
       "Linear               4 x 512 x 768        2,360,064  False     \n",
       "________________________________________________________________\n",
       "LayerNorm            4 x 512 x 768        1,536      False     \n",
       "________________________________________________________________\n",
       "Dropout              4 x 512 x 768        0          False     \n",
       "________________________________________________________________\n",
       "Linear               4 x 512 x 768        590,592    False     \n",
       "________________________________________________________________\n",
       "Linear               4 x 512 x 768        590,592    False     \n",
       "________________________________________________________________\n",
       "Linear               4 x 512 x 768        590,592    False     \n",
       "________________________________________________________________\n",
       "Dropout              4 x 12 x 512 x 512   0          False     \n",
       "________________________________________________________________\n",
       "Linear               4 x 512 x 768        590,592    False     \n",
       "________________________________________________________________\n",
       "LayerNorm            4 x 512 x 768        1,536      False     \n",
       "________________________________________________________________\n",
       "Dropout              4 x 512 x 768        0          False     \n",
       "________________________________________________________________\n",
       "Linear               4 x 512 x 3072       2,362,368  False     \n",
       "________________________________________________________________\n",
       "Linear               4 x 512 x 768        2,360,064  False     \n",
       "________________________________________________________________\n",
       "LayerNorm            4 x 512 x 768        1,536      False     \n",
       "________________________________________________________________\n",
       "Dropout              4 x 512 x 768        0          False     \n",
       "________________________________________________________________\n",
       "Linear               4 x 512 x 768        590,592    False     \n",
       "________________________________________________________________\n",
       "Linear               4 x 512 x 768        590,592    False     \n",
       "________________________________________________________________\n",
       "Linear               4 x 512 x 768        590,592    False     \n",
       "________________________________________________________________\n",
       "Dropout              4 x 12 x 512 x 512   0          False     \n",
       "________________________________________________________________\n",
       "Linear               4 x 512 x 768        590,592    False     \n",
       "________________________________________________________________\n",
       "LayerNorm            4 x 512 x 768        1,536      False     \n",
       "________________________________________________________________\n",
       "Dropout              4 x 512 x 768        0          False     \n",
       "________________________________________________________________\n",
       "Linear               4 x 512 x 3072       2,362,368  False     \n",
       "________________________________________________________________\n",
       "Linear               4 x 512 x 768        2,360,064  False     \n",
       "________________________________________________________________\n",
       "LayerNorm            4 x 512 x 768        1,536      False     \n",
       "________________________________________________________________\n",
       "Dropout              4 x 512 x 768        0          False     \n",
       "________________________________________________________________\n",
       "Linear               4 x 512 x 768        590,592    False     \n",
       "________________________________________________________________\n",
       "Linear               4 x 512 x 768        590,592    False     \n",
       "________________________________________________________________\n",
       "Linear               4 x 512 x 768        590,592    False     \n",
       "________________________________________________________________\n",
       "Dropout              4 x 12 x 512 x 512   0          False     \n",
       "________________________________________________________________\n",
       "Linear               4 x 512 x 768        590,592    False     \n",
       "________________________________________________________________\n",
       "LayerNorm            4 x 512 x 768        1,536      False     \n",
       "________________________________________________________________\n",
       "Dropout              4 x 512 x 768        0          False     \n",
       "________________________________________________________________\n",
       "Linear               4 x 512 x 3072       2,362,368  False     \n",
       "________________________________________________________________\n",
       "Linear               4 x 512 x 768        2,360,064  False     \n",
       "________________________________________________________________\n",
       "LayerNorm            4 x 512 x 768        1,536      False     \n",
       "________________________________________________________________\n",
       "Dropout              4 x 512 x 768        0          False     \n",
       "________________________________________________________________\n",
       "Linear               4 x 512 x 768        590,592    False     \n",
       "________________________________________________________________\n",
       "Linear               4 x 512 x 768        590,592    False     \n",
       "________________________________________________________________\n",
       "Linear               4 x 512 x 768        590,592    False     \n",
       "________________________________________________________________\n",
       "Dropout              4 x 12 x 512 x 512   0          False     \n",
       "________________________________________________________________\n",
       "Linear               4 x 512 x 768        590,592    False     \n",
       "________________________________________________________________\n",
       "LayerNorm            4 x 512 x 768        1,536      False     \n",
       "________________________________________________________________\n",
       "Dropout              4 x 512 x 768        0          False     \n",
       "________________________________________________________________\n",
       "Linear               4 x 512 x 3072       2,362,368  False     \n",
       "________________________________________________________________\n",
       "Linear               4 x 512 x 768        2,360,064  False     \n",
       "________________________________________________________________\n",
       "LayerNorm            4 x 512 x 768        1,536      False     \n",
       "________________________________________________________________\n",
       "Dropout              4 x 512 x 768        0          False     \n",
       "________________________________________________________________\n",
       "Linear               4 x 768              590,592    False     \n",
       "________________________________________________________________\n",
       "Tanh                 4 x 768              0          False     \n",
       "________________________________________________________________\n",
       "Linear               4 x 768              590,592    True      \n",
       "________________________________________________________________\n",
       "Dropout              4 x 768              0          False     \n",
       "________________________________________________________________\n",
       "Linear               4 x 2                1,538      True      \n",
       "________________________________________________________________\n",
       "\n",
       "Total params: 125,237,762\n",
       "Total trainable params: 592,130\n",
       "Total non-trainable params: 124,645,632\n",
       "\n",
       "Optimizer used: functools.partial(<function Adam at 0x7fca24268050>, decouple_wd=True)\n",
       "Loss function: FlattenedLoss of CrossEntropyLoss()\n",
       "\n",
       "Model frozen up to parameter group number 1\n",
       "\n",
       "Callbacks:\n",
       "  - ModelToHalf\n",
       "  - TrainEvalCallback\n",
       "  - Recorder\n",
       "  - ProgressCallback\n",
       "  - MixedPrecision"
      ]
     },
     "execution_count": 31,
     "metadata": {},
     "output_type": "execute_result"
    }
   ],
   "source": [
    "learn.summary()"
   ]
  },
  {
   "cell_type": "markdown",
   "metadata": {},
   "source": [
    "Lets find a learning rate to train our classifier head"
   ]
  },
  {
   "cell_type": "code",
   "execution_count": 32,
   "metadata": {},
   "outputs": [
    {
     "data": {
      "text/plain": [
       "device(type='cuda', index=0)"
      ]
     },
     "execution_count": 32,
     "metadata": {},
     "output_type": "execute_result"
    }
   ],
   "source": [
    "dls.device"
   ]
  },
  {
   "cell_type": "code",
   "execution_count": 33,
   "metadata": {},
   "outputs": [
    {
     "data": {
      "text/html": [],
      "text/plain": [
       "<IPython.core.display.HTML object>"
      ]
     },
     "metadata": {},
     "output_type": "display_data"
    },
    {
     "data": {
      "text/plain": [
       "SuggestedLRs(lr_min=6.918309954926372e-05, lr_steep=0.04786301031708717)"
      ]
     },
     "execution_count": 33,
     "metadata": {},
     "output_type": "execute_result"
    },
    {
     "data": {
      "image/png": "[encoded data removed]",
      "text/plain": [
       "<Figure size 432x288 with 1 Axes>"
      ]
     },
     "metadata": {
      "needs_background": "light"
     },
     "output_type": "display_data"
    }
   ],
   "source": [
    "learn.lr_find(suggestions=True)"
   ]
  },
  {
   "cell_type": "code",
   "execution_count": 34,
   "metadata": {},
   "outputs": [
    {
     "data": {
      "text/plain": [
       "<matplotlib.collections.LineCollection at 0x7fca05ac0ed0>"
      ]
     },
     "execution_count": 34,
     "metadata": {},
     "output_type": "execute_result"
    },
    {
     "data": {
      "image/png": "[encoded data removed]",
      "text/plain": [
       "<Figure size 432x288 with 1 Axes>"
      ]
     },
     "metadata": {
      "needs_background": "light"
     },
     "output_type": "display_data"
    }
   ],
   "source": [
    "learn.recorder.plot_lr_find()\n",
    "plt.vlines(9.1e-8, 0.6, 1.1)\n",
    "plt.vlines(0.069, 0.6, 1.1)"
   ]
  },
  {
   "cell_type": "code",
   "execution_count": 35,
   "metadata": {
    "scrolled": true
   },
   "outputs": [
    {
     "data": {
      "text/html": [
       "<table border=\"1\" class=\"dataframe\">\n",
       "  <thead>\n",
       "    <tr style=\"text-align: left;\">\n",
       "      <th>epoch</th>\n",
       "      <th>train_loss</th>\n",
       "      <th>valid_loss</th>\n",
       "      <th>accuracy</th>\n",
       "      <th>time</th>\n",
       "    </tr>\n",
       "  </thead>\n",
       "  <tbody>\n",
       "    <tr>\n",
       "      <td>0</td>\n",
       "      <td>0.731541</td>\n",
       "      <td>0.634725</td>\n",
       "      <td>0.680000</td>\n",
       "      <td>00:07</td>\n",
       "    </tr>\n",
       "    <tr>\n",
       "      <td>1</td>\n",
       "      <td>0.561116</td>\n",
       "      <td>0.543190</td>\n",
       "      <td>0.780000</td>\n",
       "      <td>00:07</td>\n",
       "    </tr>\n",
       "    <tr>\n",
       "      <td>2</td>\n",
       "      <td>0.481190</td>\n",
       "      <td>0.500178</td>\n",
       "      <td>0.800000</td>\n",
       "      <td>00:06</td>\n",
       "    </tr>\n",
       "  </tbody>\n",
       "</table>"
      ],
      "text/plain": [
       "<IPython.core.display.HTML object>"
      ]
     },
     "metadata": {},
     "output_type": "display_data"
    }
   ],
   "source": [
    "learn.fit_one_cycle(3, lr_max=1e-3)"
   ]
  },
  {
   "cell_type": "code",
   "execution_count": 36,
   "metadata": {},
   "outputs": [],
   "source": [
    "learn.save('roberta-fasthugs-stg1-1e-3')"
   ]
  },
  {
   "cell_type": "code",
   "execution_count": 37,
   "metadata": {},
   "outputs": [
    {
     "data": {
      "image/png": "[encoded data removed]",
      "text/plain": [
       "<Figure size 432x288 with 1 Axes>"
      ]
     },
     "metadata": {
      "needs_background": "light"
     },
     "output_type": "display_data"
    }
   ],
   "source": [
    "learn.recorder.plot_loss()"
   ]
  },
  {
   "cell_type": "markdown",
   "metadata": {},
   "source": [
    "### Stage 2 training\n",
    "And now lets train the full model with differential learning rates"
   ]
  },
  {
   "cell_type": "code",
   "execution_count": 38,
   "metadata": {},
   "outputs": [],
   "source": [
    "learn.unfreeze()"
   ]
  },
  {
   "cell_type": "code",
   "execution_count": 39,
   "metadata": {
    "scrolled": true
   },
   "outputs": [],
   "source": [
    "#learn.summary()"
   ]
  },
  {
   "cell_type": "code",
   "execution_count": 40,
   "metadata": {},
   "outputs": [
    {
     "data": {
      "text/html": [],
      "text/plain": [
       "<IPython.core.display.HTML object>"
      ]
     },
     "metadata": {},
     "output_type": "display_data"
    },
    {
     "data": {
      "text/plain": [
       "SuggestedLRs(lr_min=9.999999747378752e-07, lr_steep=0.02754228748381138)"
      ]
     },
     "execution_count": 40,
     "metadata": {},
     "output_type": "execute_result"
    },
    {
     "data": {
      "image/png": "[encoded data removed]",
      "text/plain": [
       "<Figure size 432x288 with 1 Axes>"
      ]
     },
     "metadata": {
      "needs_background": "light"
     },
     "output_type": "display_data"
    }
   ],
   "source": [
    "learn.lr_find(suggestions=True)"
   ]
  },
  {
   "cell_type": "code",
   "execution_count": 41,
   "metadata": {},
   "outputs": [
    {
     "data": {
      "text/plain": [
       "<matplotlib.collections.LineCollection at 0x7fca056fa310>"
      ]
     },
     "execution_count": 41,
     "metadata": {},
     "output_type": "execute_result"
    },
    {
     "data": {
      "image/png": "[encoded data removed]",
      "text/plain": [
       "<Figure size 432x288 with 1 Axes>"
      ]
     },
     "metadata": {
      "needs_background": "light"
     },
     "output_type": "display_data"
    }
   ],
   "source": [
    "learn.recorder.plot_lr_find()\n",
    "plt.vlines(6.3e-6, 0.4, 0.7)\n",
    "plt.vlines(9.12e-7, 0.4, 0.7)"
   ]
  },
  {
   "cell_type": "code",
   "execution_count": 42,
   "metadata": {
    "scrolled": true
   },
   "outputs": [
    {
     "data": {
      "text/html": [
       "<table border=\"1\" class=\"dataframe\">\n",
       "  <thead>\n",
       "    <tr style=\"text-align: left;\">\n",
       "      <th>epoch</th>\n",
       "      <th>train_loss</th>\n",
       "      <th>valid_loss</th>\n",
       "      <th>accuracy</th>\n",
       "      <th>time</th>\n",
       "    </tr>\n",
       "  </thead>\n",
       "  <tbody>\n",
       "    <tr>\n",
       "      <td>0</td>\n",
       "      <td>0.443987</td>\n",
       "      <td>0.413336</td>\n",
       "      <td>0.840000</td>\n",
       "      <td>00:31</td>\n",
       "    </tr>\n",
       "    <tr>\n",
       "      <td>1</td>\n",
       "      <td>0.262236</td>\n",
       "      <td>0.312410</td>\n",
       "      <td>0.875000</td>\n",
       "      <td>00:31</td>\n",
       "    </tr>\n",
       "    <tr>\n",
       "      <td>2</td>\n",
       "      <td>0.229878</td>\n",
       "      <td>0.285044</td>\n",
       "      <td>0.910000</td>\n",
       "      <td>00:31</td>\n",
       "    </tr>\n",
       "  </tbody>\n",
       "</table>"
      ],
      "text/plain": [
       "<IPython.core.display.HTML object>"
      ]
     },
     "metadata": {},
     "output_type": "display_data"
    }
   ],
   "source": [
    "learn.fit_one_cycle(3, lr_max=slice(1e-6, 1e-5))"
   ]
  },
  {
   "cell_type": "code",
   "execution_count": 43,
   "metadata": {},
   "outputs": [],
   "source": [
    "learn.save('roberta-fasthugs-stg2-3e-5')"
   ]
  },
  {
   "cell_type": "code",
   "execution_count": 44,
   "metadata": {},
   "outputs": [
    {
     "data": {
      "image/png": "[encoded data removed]",
      "text/plain": [
       "<Figure size 432x288 with 1 Axes>"
      ]
     },
     "metadata": {
      "needs_background": "light"
     },
     "output_type": "display_data"
    }
   ],
   "source": [
    "learn.recorder.plot_loss()"
   ]
  },
  {
   "cell_type": "markdown",
   "metadata": {},
   "source": [
    "## Lets Look at the model's predictions"
   ]
  },
  {
   "cell_type": "code",
   "execution_count": 45,
   "metadata": {},
   "outputs": [
    {
     "data": {
      "text/html": [],
      "text/plain": [
       "<IPython.core.display.HTML object>"
      ]
     },
     "metadata": {},
     "output_type": "display_data"
    },
    {
     "data": {
      "text/plain": [
       "('positive', tensor(1), tensor([0.1475, 0.8525]))"
      ]
     },
     "execution_count": 45,
     "metadata": {},
     "output_type": "execute_result"
    }
   ],
   "source": [
    "learn.predict(\"This was a really good movie, i loved it\")"
   ]
  },
  {
   "cell_type": "code",
   "execution_count": 47,
   "metadata": {
    "scrolled": true
   },
   "outputs": [
    {
     "data": {
      "text/html": [],
      "text/plain": [
       "<IPython.core.display.HTML object>"
      ]
     },
     "metadata": {},
     "output_type": "display_data"
    }
   ],
   "source": [
    "from fastai2.interpret import *\n",
    "#interp = Interpretation.from_learner(learn)\n",
    "interp = ClassificationInterpretation.from_learner(learn)"
   ]
  },
  {
   "cell_type": "code",
   "execution_count": 49,
   "metadata": {},
   "outputs": [
    {
     "data": {
      "text/html": [
       "<table border=\"1\" class=\"dataframe\">\n",
       "  <thead>\n",
       "    <tr style=\"text-align: right;\">\n",
       "      <th></th>\n",
       "      <th>input</th>\n",
       "      <th>target</th>\n",
       "      <th>predicted</th>\n",
       "      <th>probability</th>\n",
       "      <th>loss</th>\n",
       "    </tr>\n",
       "  </thead>\n",
       "  <tbody>\n",
       "    <tr>\n",
       "      <th>0</th>\n",
       "      <td>&lt;s&gt; ĠIn Ġ17 th ĠCentury ĠJapan , Ġthere Ġlived Ġa Ġsamurai Ġwho Ġwould Ġset Ġthe Ġstandard Ġfor Ġthe Ġages . ĠHis Ġname Ġwas ĠMay eda . ĠHe Ġis Ġsent Ġon Ġan Ġepic Ġjourney Ġacross Ġthe Ġworld Ġto Ġacquire Ġ5 , 000 Ġmus cats Ġfrom Ġthe ĠKing Ġof ĠSpain . ĠWhilst Ġat Ġsea Ġa Ġviolent Ġstorm Ġswall ows Ġtheir Ġprecious Ġgold Ġintended Ġto Ġbuy Ġthe Ġweapons Ġand Ġalmost Ġtakes Ġtheir Ġlives . ĠMay eda Ġmust Ġbattle Ġall Ġodds Ġto Ġsurvive Ġand Ġthe Ġsecure Ġthe Ġfate Ġof Ġhis Ġbeloved ĠJapan . ĠShogun ĠMay eda Ġis Ġa Ġmulti Ġmillion Ġdollar Ġaction Ġadventure Ġepic Ġset Ġacross Ġthree Ġcontinents .&lt; br Ġ/ &gt;&lt; br Ġ/&gt; Star ring Ġcinema Ġlegends ĠSho ĠKos ugi Ġ( T ench u : ĠStealth ĠAssassins ), ĠChristopher ĠLee Ġ( Star ĠWars , ĠLord Ġof Ġthe ĠRings ĠTrilogy ), ĠJohn ĠRh ys ĠDavies Ġ( Lord Ġof Ġthe ĠRings ĠTrilogy , ĠIndiana ĠJones</td>\n",
       "      <td>negative</td>\n",
       "      <td>positive</td>\n",
       "      <td>0.9735190272331238</td>\n",
       "      <td>3.6313300132751465</td>\n",
       "    </tr>\n",
       "    <tr>\n",
       "      <th>1</th>\n",
       "      <td>&lt;s&gt; ĠI 'm Ġgonna Ġtip Ġthe Ġscales Ġhere Ġa Ġbit Ġand Ġsay ĠI Ġenjoyed Ġthis . ĠHowever , Ġthe Ġcartoon Ġis Ġreally Ġonly Ġgoing Ġto Ġappeal Ġto Ġthose Ġwho Ġhave Ġvery Ġabsurd ist Ġtendencies . ĠIt 's Ġdefinitely Ġsomething Ġthat Ġmost Ġpeople Ġwill Ġnot Ġget , Ġas Ġis Ġthe Ġnature Ġof Ġabsurd ism .&lt; br Ġ/ &gt;&lt; br Ġ/&gt; the Ġanimation Ġis Ġhorrible , Ġbut Ġyes , Ġthat 's Ġthe Ġpoint . ĠThe Ġmain Ġcharacter Ġis Ġfoul Ġm out hed , Ġviolent , Ġand Ġstupid . Ġno Ġredeem ing Ġqualities Ġwhatsoever . Ġhis Ġwife Ġshri eks Ġand Ġw ails , Ġapparently Ġjust Ġbarely Ġcapable Ġof Ġthe Ġmost Ġbasic Ġcommunication Ġskills . Ġmost Ġof Ġthese Ġstories Ġcompletely Ġlack Ġany Ġkind Ġof Ġpoint .&lt; br Ġ/ &gt;&lt; br Ġ/&gt; but Ġagain , Ġthat 's Ġthe Ġpoint Ġ;) &lt; br Ġ/ &gt;&lt; br Ġ/&gt; If Ġnon Ġsequ it ers , Ġfoul Ġlanguage ,</td>\n",
       "      <td>positive</td>\n",
       "      <td>negative</td>\n",
       "      <td>0.9622496962547302</td>\n",
       "      <td>3.2767624855041504</td>\n",
       "    </tr>\n",
       "    <tr>\n",
       "      <th>2</th>\n",
       "      <td>&lt;s&gt; ĠIn Ġorder Ġto Ġhold Ġthe Ġpublic 's Ġattention Ġfor Ġthree Ġhours , Ġwe Ġwere Ġtreated Ġnot Ġso Ġmuch Ġto Ġa Ġfamily 's Ġr omp Ġthrough Ġfour Ġgenerations Ġand Ġ120 Ġyears Ġof ĠHungarian Ġhistory , Ġas Ġto Ġsexual Ġlia isons Ġwith Ġa Ġsister , Ġa Ġsister - in - law Ġand Ġother Ġadul ter ies . ĠOh Ġyes , Ġthere Ġwas Ġalso Ġa Ġtotally Ġgrat uitous Ġrape . ĠHaving Ġsaid Ġall Ġthis , Ġthe Ġfirst Ġstory Ġof Ġthe Ġrelationship Ġamong Ġthe Ġchildren Ġof Ġthe Ġpatriarch Ġwas Ġfresh Ġand Ġsens ual Ġ- Ġthanks Ġto ĠJennifer ĠEh le . &lt;/s&gt; &lt;pad&gt; &lt;pad&gt; &lt;pad&gt; &lt;pad&gt; &lt;pad&gt; &lt;pad&gt; &lt;pad&gt; &lt;pad&gt; &lt;pad&gt; &lt;pad&gt; &lt;pad&gt; &lt;pad&gt; &lt;pad&gt; &lt;pad&gt; &lt;pad&gt; &lt;pad&gt; &lt;pad&gt; &lt;pad&gt; &lt;pad&gt; &lt;pad&gt; &lt;pad&gt; &lt;pad&gt; &lt;pad&gt; &lt;pad&gt; &lt;pad&gt; &lt;pad&gt; &lt;pad&gt; &lt;pad&gt; &lt;pad&gt; &lt;pad&gt; &lt;pad&gt; &lt;pad&gt; &lt;pad&gt; &lt;pad&gt; &lt;pad&gt; &lt;pad&gt; &lt;pad&gt; &lt;pad&gt; &lt;pad&gt; &lt;pad&gt; &lt;pad&gt; &lt;pad&gt; &lt;pad&gt; &lt;pad&gt; &lt;pad&gt; &lt;pad&gt; &lt;pad&gt; &lt;pad&gt; &lt;pad&gt; &lt;pad&gt; &lt;pad&gt; &lt;pad&gt;</td>\n",
       "      <td>negative</td>\n",
       "      <td>positive</td>\n",
       "      <td>0.9524857997894287</td>\n",
       "      <td>3.046726942062378</td>\n",
       "    </tr>\n",
       "  </tbody>\n",
       "</table>"
      ],
      "text/plain": [
       "<IPython.core.display.HTML object>"
      ]
     },
     "metadata": {},
     "output_type": "display_data"
    }
   ],
   "source": [
    "interp.plot_top_losses(3)"
   ]
  }
 ],
 "metadata": {
  "kernelspec": {
   "display_name": "Python 3",
   "language": "python",
   "name": "python3"
  },
  "language_info": {
   "codemirror_mode": {
    "name": "ipython",
    "version": 3
   },
   "file_extension": ".py",
   "mimetype": "text/x-python",
   "name": "python",
   "nbconvert_exporter": "python",
   "pygments_lexer": "ipython3",
   "version": "3.7.6"
  }
 },
 "nbformat": 4,
 "nbformat_minor": 2
}
