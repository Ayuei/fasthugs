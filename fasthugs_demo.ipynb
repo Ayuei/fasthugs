{
 "cells": [
  {
   "cell_type": "markdown",
   "metadata": {},
   "source": [
    "# FastHugs\n",
    "This notebook gives a full run through to fine-tune a text classification model with **HuggingFace 🤗 transformers** and the new **fastai-v2** library.\n",
    "\n",
    "## Things You Might Like (❤️ ?)\n",
    "**FastHugsTokenizer:** A tokenizer wrapper than can be used with fastai-v2's tokenizer.\n",
    "\n",
    "**FastHugsModel:** A model wrapper over the HF models, more or less the same to the wrapper's from HF fastai-v1 articles mentioned below\n",
    "\n",
    "**Vocab:** A function to extract the vocab depending on the pre-trained transformer (HF hasn't standardised this processes 😢).\n",
    "\n",
    "**Padding:** Padding settings for the padding token index and on whether the transformer prefers left or right padding\n",
    "\n",
    "**Vocab for Albert-base-v2**: .json for Albert-base-v2's vocab, otherwise this has to be extracted from a SentencePiece model file, which isn't fun\n",
    "\n",
    "**Model Splitters:** Functions to split the classification head from the model backbone in line with fastai-v2's new definition of `Learner`\n",
    "\n",
    "## Housekeeping\n",
    "### Pretrained Transformers only for now 😐\n",
    "Initially, this notebook will only deal with finetuning HuggingFace's pretrained models. It covers BERT, DistilBERT, RoBERTa and ALBERT pretrained classification models only. These are the core transformer model architectures where HuggingFace have added a classification head. HuggingFace also has other versions of these model architectures such as the core model architecture and language model model architectures.\n",
    "\n",
    "If you'd like to try train a model from scratch HuggingFace just recently published an article on [How to train a new language model from scratch using Transformers and Tokenizers](https://huggingface.co/blog/how-to-train). Its well worth reading to see how their `tokenizers` library can be used, independent of their pretrained transformer models.\n",
    "\n",
    "### Read these first 👇\n",
    "This notebooks heavily borrows from [this notebook](https://www.kaggle.com/melissarajaram/roberta-fastai-huggingface-transformers) , which in turn is based off of this [tutorial](https://www.kaggle.com/maroberti/fastai-with-transformers-bert-roberta) and accompanying [article](https://towardsdatascience.com/fastai-with-transformers-bert-roberta-xlnet-xlm-distilbert-4f41ee18ecb2). Huge thanks to  Melissa Rajaram and Maximilien Roberti for these great resources, if you're not familiar with the HuggingFace library please given them a read first as they are quite comprehensive.\n",
    "\n",
    "### fastai-v2  ✌️2️⃣\n",
    "[This paper](https://www.fast.ai/2020/02/13/fastai-A-Layered-API-for-Deep-Learning/) introduces the v2 version of the fastai library and you can follow and contribute to v2's progress [on the forums](https://forums.fast.ai/). This notebook uses the small IMDB dataset and is based off the [fastai-v2 ULMFiT tutorial](http://dev.fast.ai/tutorial.ulmfit). Huge thanks to Jeremy, Sylvain, Rachel and the fastai community for making this library what it is. I'm super excited about the additinal flexibility v2 brings. 🎉\n",
    "\n",
    "### Dependencies 📥\n",
    "If you haven't already, install HuggingFace's `transformers` library with: `pip install transformers`"
   ]
  },
  {
   "cell_type": "code",
   "execution_count": 1,
   "metadata": {},
   "outputs": [],
   "source": [
    "#hide\n",
    "# CUDA ERROR DEBUGGING\n",
    "# https://lernapparat.de/debug-device-assert/\n",
    "import os\n",
    "os.environ['CUDA_LAUNCH_BLOCKING'] = \"1\""
   ]
  },
  {
   "cell_type": "code",
   "execution_count": 2,
   "metadata": {},
   "outputs": [],
   "source": [
    "#hide\n",
    "%reload_ext autoreload\n",
    "%autoreload 2\n",
    "\n",
    "from fastai2.basics import *\n",
    "from fastai2.text.all import *\n",
    "from fastai2.callback.all import *\n",
    "\n",
    "from transformers import BertForSequenceClassification, BertTokenizer, BertConfig\n",
    "from transformers import DistilBertForSequenceClassification, DistilBertTokenizer, DistilBertConfig\n",
    "from transformers import RobertaForSequenceClassification, RobertaTokenizer, RobertaConfig\n",
    "from transformers import AlbertForSequenceClassification, AlbertTokenizer, AlbertConfig\n",
    "\n",
    "import json"
   ]
  },
  {
   "cell_type": "code",
   "execution_count": 3,
   "metadata": {},
   "outputs": [],
   "source": [
    "#hide\n",
    "path = untar_data(URLs.IMDB_SAMPLE)\n",
    "model_path = Path('models')\n",
    "df = pd.read_csv(path/'texts.csv')"
   ]
  },
  {
   "cell_type": "markdown",
   "metadata": {},
   "source": [
    "## FastHugs Tokenizer\n",
    "This tokenizer wrapper is initialised with the pretrained HF tokenizer, you can also specify the max_seq_len if you want longer/shorter sequences. Given text it returns tokens and adds separator tokens depending on the model type being used."
   ]
  },
  {
   "cell_type": "code",
   "execution_count": 4,
   "metadata": {},
   "outputs": [],
   "source": [
    "class FastHugsTokenizer():\n",
    "    \"\"\" \n",
    "        transformer_tokenizer : takes the tokenizer that has been loaded from the tokenizer class\n",
    "        model_type : model type set by the user\n",
    "        max_len : override default sequence length, typically 512 for bert-like models\n",
    "    \"\"\"\n",
    "    def __init__(self, transformer_tokenizer, model_type = 'roberta', max_seq_len=None, **kwargs): \n",
    "        self.tok = transformer_tokenizer\n",
    "        self.max_seq_len = ifnone(max_seq_len, self.tok.max_len)\n",
    "        self.model_type = model_type\n",
    "        self.pad_token_id = self.tok.pad_token_id\n",
    "        \n",
    "    def do_tokenize(self, t:str):\n",
    "        \"\"\"Limits the maximum sequence length and add the special tokens\"\"\"\n",
    "        CLS = self.tok.cls_token\n",
    "        SEP = self.tok.sep_token\n",
    "        if 'roberta' in model_type:\n",
    "            tokens = self.tok.tokenize(t, add_prefix_space=True)[:self.max_seq_len - 2]\n",
    "        else:\n",
    "            tokens = self.tok.tokenize(t)[:self.max_seq_len - 2]\n",
    "        return [CLS] + tokens + [SEP]\n",
    "\n",
    "    def __call__(self, items): \n",
    "        for t in items: yield self.do_tokenize(t)"
   ]
  },
  {
   "cell_type": "markdown",
   "metadata": {},
   "source": [
    "## FastHugs Model\n",
    "This `nn.module` wraps the pretrained transformer model, initialises it with is config file. If you'd like to make configuration changes to the model, you can do so in this class. The `forward` of this module is taken straight from Melissa's notebook above and its purpose is to create the attention mask and grab only the logits from the output of the model (as the HF transformer models also output the loss)."
   ]
  },
  {
   "cell_type": "code",
   "execution_count": 5,
   "metadata": {
    "scrolled": true
   },
   "outputs": [],
   "source": [
    "# More or less copy-paste from https://www.kaggle.com/melissarajaram/roberta-fastai-huggingface-transformers/data\n",
    "class FastHugsModel(nn.Module):\n",
    "    def __init__(self, pretrained_model_name, model_class, config_class, n_class, max_seq_len=None):\n",
    "        super(FastHugsModel, self).__init__()\n",
    "        self.config = config_class.from_pretrained(pretrained_model_name)\n",
    "        self.config.num_labels = n_class\n",
    "        if max_seq_len is not None: self.config.max_position_embeddings = max_len\n",
    "        \n",
    "        self.transformer = model_class.from_pretrained(pretrained_model_name, config = self.config, \n",
    "                                    cache_dir=model_path/f'{pretrained_model_name}')\n",
    "        \n",
    "    def forward(self, input_ids, attention_mask=None):\n",
    "        attention_mask = (input_ids!=1).type(input_ids.type()) \n",
    "        logits = self.transformer(input_ids, attention_mask = attention_mask)[0] \n",
    "        return logits"
   ]
  },
  {
   "cell_type": "markdown",
   "metadata": {},
   "source": [
    "## Padding\n",
    "Pass the initialised transformer tokenizer to set the index for the padding token and the side padding should be applied; e.g. BERT, Roberta prefers padding to the right, so we set `pad_first=False`"
   ]
  },
  {
   "cell_type": "code",
   "execution_count": 6,
   "metadata": {},
   "outputs": [],
   "source": [
    "def transformer_padding(transformer_tokenizer): \n",
    "    if transformer_tokenizer.padding_side == 'right': \n",
    "        pad_first=False\n",
    "    return partial(pad_input_chunk, pad_first=pad_first, pad_idx=transformer_tokenizer.pad_token_id)"
   ]
  },
  {
   "cell_type": "markdown",
   "metadata": {},
   "source": [
    "## Lets get training\n",
    "### Select our HuggingFace model"
   ]
  },
  {
   "cell_type": "code",
   "execution_count": 7,
   "metadata": {},
   "outputs": [],
   "source": [
    "models_dict = {'bert_classification': (BertForSequenceClassification, BertTokenizer, BertConfig, \n",
    "                                       'bert-base-uncased', 'bert_class_splitter'),\n",
    "                'roberta_classification': (RobertaForSequenceClassification, RobertaTokenizer, RobertaConfig, \n",
    "                                           'roberta-base', 'roberta_clas_splitter'),\n",
    "                'distilbert_classification': (DistilBertForSequenceClassification, DistilBertTokenizer, DistilBertConfig, \n",
    "                                              'distilbert-base-uncased', 'distilbert_clas_splitter'),\n",
    "                'albert_classification': (AlbertForSequenceClassification, AlbertTokenizer, AlbertConfig, \n",
    "                                          'albert-base-v2', 'albert_clas_splitter')\n",
    "              }"
   ]
  },
  {
   "cell_type": "markdown",
   "metadata": {},
   "source": [
    "Grab the model, tokenizer and config that we'd like to use"
   ]
  },
  {
   "cell_type": "code",
   "execution_count": 8,
   "metadata": {},
   "outputs": [],
   "source": [
    "model_type = 'roberta_classification'  \n",
    "model_class, tokenizer_class, config_class, pretrained_model_name, tfmr_splitter = models_dict[model_type]"
   ]
  },
  {
   "cell_type": "markdown",
   "metadata": {},
   "source": [
    "We can also change the max sequence length for the tokenizer and transformer here. If its not set it will default to the pretrained model's default, typically `512`. 1024 or even 2048 can also be used depending on your GPU memory"
   ]
  },
  {
   "cell_type": "code",
   "execution_count": 9,
   "metadata": {},
   "outputs": [],
   "source": [
    "max_seq_len = None  "
   ]
  },
  {
   "cell_type": "markdown",
   "metadata": {},
   "source": [
    "## Geting HuggingFace Tokenizer into fastai-v2\n",
    "Intialise the tokenizer needed for the pretrained model, this will download the `vocab.json` and `merges.txt` files needed. Specifying `cache_dir` will allow us easily access them, otherwise they will be saved to a Torch cache folder here `~/.cache/torch/transformers`. "
   ]
  },
  {
   "cell_type": "code",
   "execution_count": 10,
   "metadata": {},
   "outputs": [],
   "source": [
    "transformer_tokenizer = tokenizer_class.from_pretrained(pretrained_model_name, \n",
    "                                                        cache_dir=model_path/f'{pretrained_model_name}')"
   ]
  },
  {
   "cell_type": "markdown",
   "metadata": {},
   "source": [
    "**Create fasthugstok function:** Lets incorporate the `transformer_tokenizer` into fastai-v2's framework by specifying a fucntion to pass to `Tokenizer.from_df`. (Note `from_df` is the only method I have tested)"
   ]
  },
  {
   "cell_type": "code",
   "execution_count": 11,
   "metadata": {
    "scrolled": true
   },
   "outputs": [],
   "source": [
    "fasthugstok = partial(FastHugsTokenizer, transformer_tokenizer = transformer_tokenizer, \n",
    "                      model_type=model_type, max_seq_len=None)"
   ]
  },
  {
   "cell_type": "markdown",
   "metadata": {},
   "source": [
    "**Set up fastai-v2's Tokenizer.from_df:** We create temporary classes for now until ability to remove fastai's default text processing rules is added to the library. `tok_fn` is now ready to be used in fastai-v2's low-level data pipeline or the high-level `TextDataLoaders` functionality"
   ]
  },
  {
   "cell_type": "code",
   "execution_count": 46,
   "metadata": {},
   "outputs": [],
   "source": [
    "class tempTokenizer(Tokenizer):\n",
    "    \"\"\"\n",
    "    Temporary class to remove default fastai text processing rules\n",
    "    \"\"\"\n",
    "    input_types = (str, list, L, tuple, Path)\n",
    "    def __init__(self, tokenizer, rules=None, counter=None, lengths=None, mode=None):\n",
    "        store_attr(self, 'tokenizer,counter,lengths,mode')\n",
    "        #self.rules = defaults.text_proc_rules if rules is None else rules\n",
    "    \n",
    "    @classmethod\n",
    "    @delegates(tokenize_df, keep=True)\n",
    "    def from_df(cls, text_cols, tok_func=SpacyTokenizer, **kwargs):\n",
    "        res = cls(get_tokenizer(tok_func, **kwargs), mode='df')\n",
    "        res.text_cols,res.kwargs,res.train_setup = text_cols,merge({'tok_func': tok_func}, kwargs),False\n",
    "        return res\n",
    "    \n",
    "    #def _tokenize1(self, o): return first(self.tokenizer([compose(*self.rules)(o)]))\n",
    "    def _tokenize1(self, o): return first(self.tokenizer(o))\n",
    "    \n",
    "class TokenizeBatch:\n",
    "    \"A wrapper around `tok_func` to apply `rules` and tokenize in parallel\"\n",
    "    def __init__(self, tok_func=SpacyTokenizer, rules=None, post_rules=None, **tok_kwargs ):\n",
    "        #self.rules = L(ifnone(rules, defaults.text_proc_rules))\n",
    "        #self.post_f = compose(*L(ifnone(post_rules, defaults.text_postproc_rules)))\n",
    "        self.tok = tok_func(**tok_kwargs)\n",
    "\n",
    "    def __call__(self, batch):\n",
    "        return (L(o).map(self.post_f) for o in self.tok(maps(*self.rules, batch)))"
   ]
  },
  {
   "cell_type": "code",
   "execution_count": 47,
   "metadata": {
    "scrolled": true
   },
   "outputs": [],
   "source": [
    "tok_fn = tempTokenizer.from_df(text_cols='text', res_col_name='text', \n",
    "                           tok_func=fasthugstok)\n",
    "                           #rules=[dummy_rule], \n",
    "                            #post_rules=[dummy_rule])"
   ]
  },
  {
   "cell_type": "markdown",
   "metadata": {},
   "source": [
    " ## Vocab\n",
    " Model and vocab files will be saved with files names as a long string of digits and letters (e.g. `d9fc1956a0....f4cfdb5feda.json` generated from the etag from the AWS S3 bucket as described [here in the HuggingFace repo](https://github.com/huggingface/transformers/issues/2157). For readability I prefer to save the files in a specified directory and model name so that it can be easily found and accessed in future.\n",
    " \n",
    "(Note: To avoid saving these files twice you could look at the `from_pretrained` and `cached_path` functions in HuggingFace's `PreTrainedTokenizer` class definition to find the code that downloads the files and maybe modify them to download directly to your specified directory withe desired name. I haven't had time to go that deep.)\n",
    "\n",
    "Load vocab file into a `list` as expected by fastai-v2. The HF pretrained tokenizer vocabs come in different file formats depending on the tokenizer you're using; BERT's vocab is saved as a .txt file, RoBERTa's is saved as a .json and Albert's has to be extracted from a SentencePiece model"
   ]
  },
  {
   "cell_type": "code",
   "execution_count": 14,
   "metadata": {},
   "outputs": [],
   "source": [
    "def get_vocab(transformer_tokenizer, pretrained_model_name):\n",
    "    if pretrained_model_name in ['bert-base-uncased', 'distilbert-base-uncased']:\n",
    "        transformer_vocab = list(transformer_tokenizer.vocab.keys())\n",
    "    else:\n",
    "        transformer_tokenizer.save_vocabulary(model_path/f'{pretrained_model_name}')\n",
    "        suff = 'json'\n",
    "        if pretrained_model_name in ['albert-base-v2']:\n",
    "            with open(model_path/f'{pretrained_model_name}/alberta_v2_vocab.{suff}', 'r') as f: \n",
    "                transformer_vocab = json.load(f) \n",
    "        else:\n",
    "            with open(model_path/f'{pretrained_model_name}/vocab.{suff}', 'r') as f: \n",
    "                transformer_vocab = list(json.load(f).keys()) \n",
    "    return transformer_vocab"
   ]
  },
  {
   "cell_type": "code",
   "execution_count": 15,
   "metadata": {},
   "outputs": [],
   "source": [
    "transformer_vocab = get_vocab(transformer_tokenizer, pretrained_model_name)"
   ]
  },
  {
   "cell_type": "markdown",
   "metadata": {},
   "source": [
    "## Setup Data\n",
    "### Create Dataset\n",
    "Lets add our custom tokenizer function (`tok_fn`) and `transformer_vocab` here"
   ]
  },
  {
   "cell_type": "code",
   "execution_count": 48,
   "metadata": {},
   "outputs": [
    {
     "data": {
      "text/html": [],
      "text/plain": [
       "<IPython.core.display.HTML object>"
      ]
     },
     "metadata": {},
     "output_type": "display_data"
    }
   ],
   "source": [
    "splits = ColSplitter()(df)\n",
    "x_tfms = [attrgetter(\"text\"), tok_fn, Numericalize(vocab=transformer_vocab)]\n",
    "dsets = Datasets(df, splits=splits, tfms=[x_tfms, [attrgetter(\"label\"), Categorize()]], dl_type=SortedDL)"
   ]
  },
  {
   "cell_type": "markdown",
   "metadata": {},
   "source": [
    "### Dataloaders\n",
    "Here we use our `transformer_padding()` wrapper when loading the dataloader"
   ]
  },
  {
   "cell_type": "code",
   "execution_count": 49,
   "metadata": {},
   "outputs": [],
   "source": [
    "bs = 4\n",
    "dls = dsets.dataloaders(bs=bs, device='cuda', before_batch=transformer_padding(transformer_tokenizer))"
   ]
  },
  {
   "cell_type": "code",
   "execution_count": 18,
   "metadata": {},
   "outputs": [
    {
     "data": {
      "text/html": [
       "<table border=\"1\" class=\"dataframe\">\n",
       "  <thead>\n",
       "    <tr style=\"text-align: right;\">\n",
       "      <th></th>\n",
       "      <th>text</th>\n",
       "      <th>category</th>\n",
       "    </tr>\n",
       "  </thead>\n",
       "  <tbody>\n",
       "    <tr>\n",
       "      <th>0</th>\n",
       "      <td>&lt;s&gt; Ġx xb os Ġxx m aj Ġthis Ġis Ġa Ġextremely Ġwell - made Ġfilm . Ġxx m aj Ġthe Ġacting , Ġscript Ġand Ġcamera - work Ġare Ġall Ġfirst - rate . Ġxx m aj Ġthe Ġmusic Ġis Ġgood , Ġtoo , Ġthough Ġit Ġis Ġmostly Ġearly Ġin Ġthe Ġfilm , Ġwhen Ġthings Ġare Ġstill Ġrelatively Ġche ery .</td>\n",
       "      <td>positive</td>\n",
       "    </tr>\n",
       "    <tr>\n",
       "      <th>1</th>\n",
       "      <td>&lt;s&gt; Ġx xb os Ġi Ġwas Ġlooking Ġforward Ġto Ġseeing Ġxx m aj Ġam anda Ġxx m aj Ġpe et Ġin Ġanother Ġgood Ġrole Ġafter Ġrecently Ġrenting Ġ\" the Ġxx m aj Ġwhole Ġxx m aj Ġnine Ġxx m aj Ġyards \" -- eas ily Ġworth Ġthe Ġrental , Ġby Ġthe Ġway -- but Ġthis Ġwasn 't Ġit . Ċ</td>\n",
       "      <td>negative</td>\n",
       "    </tr>\n",
       "  </tbody>\n",
       "</table>"
      ],
      "text/plain": [
       "<IPython.core.display.HTML object>"
      ]
     },
     "metadata": {},
     "output_type": "display_data"
    }
   ],
   "source": [
    "dls.show_batch(max_n=2, trunc_at=60)"
   ]
  },
  {
   "cell_type": "markdown",
   "metadata": {},
   "source": [
    "### (Alternatively) Factory dataloader\n",
    "Here we set:\n",
    "- `tok_tfm=tok_fn` to use our HF tokenizer\n",
    "- `text_vocab=transformer_vocab` to load our pretrained vocab\n",
    "- `before_batch=transformer_padding(transformer_tokenizer)` to use our custom padding function "
   ]
  },
  {
   "cell_type": "code",
   "execution_count": 19,
   "metadata": {},
   "outputs": [
    {
     "data": {
      "text/html": [],
      "text/plain": [
       "<IPython.core.display.HTML object>"
      ]
     },
     "metadata": {},
     "output_type": "display_data"
    }
   ],
   "source": [
    "# Factory\n",
    "fct_dls = TextDataLoaders.from_df(df, text_col=\"text\", tok_tfm=tok_fn, text_vocab=transformer_vocab,\n",
    "                              before_batch=transformer_padding(transformer_tokenizer),\n",
    "                              label_col='label', valid_col='is_valid', bs=bs)"
   ]
  },
  {
   "cell_type": "code",
   "execution_count": 20,
   "metadata": {},
   "outputs": [
    {
     "data": {
      "text/html": [
       "<table border=\"1\" class=\"dataframe\">\n",
       "  <thead>\n",
       "    <tr style=\"text-align: right;\">\n",
       "      <th></th>\n",
       "      <th>text</th>\n",
       "      <th>category</th>\n",
       "    </tr>\n",
       "  </thead>\n",
       "  <tbody>\n",
       "    <tr>\n",
       "      <th>0</th>\n",
       "      <td>&lt;s&gt; Ġx xb os Ġxx m aj Ġthis Ġis Ġa Ġextremely Ġwell - made Ġfilm . Ġxx m aj Ġthe Ġacting , Ġscript Ġand Ġcamera - work Ġare Ġall Ġfirst - rate . Ġxx m aj Ġthe Ġmusic Ġis Ġgood , Ġtoo , Ġthough Ġit Ġis Ġmostly Ġearly Ġin Ġthe Ġfilm , Ġwhen Ġthings Ġare Ġstill Ġrelatively Ġche ery .</td>\n",
       "      <td>positive</td>\n",
       "    </tr>\n",
       "    <tr>\n",
       "      <th>1</th>\n",
       "      <td>&lt;s&gt; Ġx xb os Ġxx m aj Ġwell , Ġwhat Ġcan Ġi Ġsay . Ċ Ċ \" what Ġthe Ġxx m aj Ġble ep Ġdo Ġwe Ġxx m aj Ġknow \" Ġhas Ġachieved Ġthe Ġnearly Ġimpossible Ġ- Ġleaving Ġbehind Ġsuch Ġmaster pieces Ġof Ġthe Ġgenre Ġas Ġ\" the Ġxx m aj Ġpost man \", Ġ\" the Ġxx m aj Ġdungeon</td>\n",
       "      <td>negative</td>\n",
       "    </tr>\n",
       "  </tbody>\n",
       "</table>"
      ],
      "text/plain": [
       "<IPython.core.display.HTML object>"
      ]
     },
     "metadata": {},
     "output_type": "display_data"
    }
   ],
   "source": [
    "fct_dls.show_batch(max_n=2, trunc_at=60)"
   ]
  },
  {
   "cell_type": "markdown",
   "metadata": {},
   "source": [
    "## Model Splitters\n",
    "HuggingFace's models with names such as: `RobertaForSequenceClassification` are core transformer models with a classification head. Lets split the classification head from the core transformer backbone to enable us use progressive unfreezing and differential learning rates.\n",
    "\n",
    "You can split the model into 3 groups by modifying the splitter function like so:\n",
    "\n",
    "`\n",
    "def roberta_clas_splitter(m):\n",
    "    \"Split the classifier head from the backbone\"\n",
    "    groups = [nn.Sequential(m.transformer.roberta.embeddings,\n",
    "                  m.transformer.roberta.encoder.layer[0],\n",
    "                  m.transformer.roberta.encoder.layer[1],\n",
    "                  m.transformer.roberta.encoder.layer[2],\n",
    "                  m.transformer.roberta.encoder.layer[3],\n",
    "                  m.transformer.roberta.encoder.layer[4],\n",
    "                  m.transformer.roberta.encoder.layer[5],\n",
    "                  m.transformer.roberta.encoder.layer[6],\n",
    "                  m.transformer.roberta.encoder.layer[7],\n",
    "                  m.transformer.roberta.encoder.layer[8])]\n",
    "    groups+= [nn.Sequential(m.transformer.roberta.encoder.layer[9],\n",
    "                  m.transformer.roberta.encoder.layer[10],\n",
    "                  m.transformer.roberta.encoder.layer[11],\n",
    "                  m.transformer.roberta.pooler)]\n",
    "    groups = L(groups + [m.transformer.classifier])\n",
    "    return groups.map(params)\n",
    "`\n",
    "\n",
    "**Classification Head Differences**\n",
    "\n",
    "Interestingly, BERT's classification head is different to RoBERTa's\n",
    "\n",
    "BERT + ALBERT:\n",
    "\n",
    "`\n",
    "(dropout): Dropout(p=0.1, inplace=False)\n",
    "(classifier): Linear(in_features=768, out_features=2, bias=True)\n",
    "`\n",
    "\n",
    "DistilBERT's has a \"pre-classifier\" layer:\n",
    "\n",
    "`\n",
    "(pre_classifier): Linear(in_features=768, out_features=768, bias=True)\n",
    "(classifier): Linear(in_features=768, out_features=2, bias=True)\n",
    "(dropout): Dropout(p=0.2, inplace=False)`\n",
    "\n",
    "RoBERTa's:\n",
    "\n",
    "`(classifier): RobertaClassificationHead(\n",
    "    (dense): Linear(in_features=768, out_features=768, bias=True)\n",
    "    (dropout): Dropout(p=0.1, inplace=False)\n",
    "    (out_proj): Linear(in_features=768, out_features=2, bias=True))`"
   ]
  },
  {
   "cell_type": "code",
   "execution_count": 21,
   "metadata": {},
   "outputs": [],
   "source": [
    "def bert_clas_splitter(m):\n",
    "    \"Split the classifier head from the backbone\"\n",
    "    groups = [nn.Sequential(m.transformer.bert.embeddings,\n",
    "                m.transformer.bert.encoder.layer[0],\n",
    "                m.transformer.bert.encoder.layer[1],\n",
    "                m.transformer.bert.encoder.layer[2],\n",
    "                m.transformer.bert.encoder.layer[3],\n",
    "                m.transformer.bert.encoder.layer[4],\n",
    "                m.transformer.bert.encoder.layer[5],\n",
    "                m.transformer.bert.encoder.layer[6],\n",
    "                m.transformer.bert.encoder.layer[7],\n",
    "                m.transformer.bert.encoder.layer[8],\n",
    "                m.transformer.bert.encoder.layer[9],\n",
    "                m.transformer.bert.encoder.layer[10],\n",
    "                m.transformer.bert.encoder.layer[11],\n",
    "                m.transformer.bert.pooler)]\n",
    "    groups = L(groups + [m.transformer.classifier]) \n",
    "    return groups.map(params)"
   ]
  },
  {
   "cell_type": "code",
   "execution_count": 22,
   "metadata": {},
   "outputs": [],
   "source": [
    "def albert_clas_splitter(m):\n",
    "    groups = [nn.Sequential(m.transformer.albert.embeddings,\n",
    "                m.transformer.albert.encoder.embedding_hidden_mapping_in, \n",
    "                m.transformer.albert.encoder.albert_layer_groups,\n",
    "                m.transformer.albert.pooler)]\n",
    "    groups = L(groups + [m.transformer.classifier]) \n",
    "    return groups.map(params)"
   ]
  },
  {
   "cell_type": "code",
   "execution_count": 23,
   "metadata": {},
   "outputs": [],
   "source": [
    "def distilbert_clas_splitter(m):\n",
    "    groups = [nn.Sequential(m.transformer.distilbert.embeddings,\n",
    "                m.transformer.distilbert.transformer.layer[0], \n",
    "                m.transformer.distilbert.transformer.layer[1],\n",
    "                m.transformer.distilbert.transformer.layer[2],\n",
    "                m.transformer.distilbert.transformer.layer[3],\n",
    "                m.transformer.distilbert.transformer.layer[4],\n",
    "                m.transformer.distilbert.transformer.layer[5],\n",
    "                m.transformer.pre_classifier)]\n",
    "    groups = L(groups + [m.transformer.classifier]) \n",
    "    return groups.map(params)"
   ]
  },
  {
   "cell_type": "code",
   "execution_count": 24,
   "metadata": {},
   "outputs": [],
   "source": [
    "def roberta_clas_splitter(m):\n",
    "    \"Split the classifier head from the backbone\"\n",
    "    groups = [nn.Sequential(m.transformer.roberta.embeddings,\n",
    "                  m.transformer.roberta.encoder.layer[0],\n",
    "                  m.transformer.roberta.encoder.layer[1],\n",
    "                  m.transformer.roberta.encoder.layer[2],\n",
    "                  m.transformer.roberta.encoder.layer[3],\n",
    "                  m.transformer.roberta.encoder.layer[4],\n",
    "                  m.transformer.roberta.encoder.layer[5],\n",
    "                  m.transformer.roberta.encoder.layer[6],\n",
    "                  m.transformer.roberta.encoder.layer[7],\n",
    "                  m.transformer.roberta.encoder.layer[8],\n",
    "                  m.transformer.roberta.encoder.layer[9],\n",
    "                  m.transformer.roberta.encoder.layer[10],\n",
    "                  m.transformer.roberta.encoder.layer[11],\n",
    "                  m.transformer.roberta.pooler)]\n",
    "    groups = L(groups + [m.transformer.classifier])\n",
    "    return groups.map(params)"
   ]
  },
  {
   "cell_type": "code",
   "execution_count": 25,
   "metadata": {},
   "outputs": [],
   "source": [
    "splitters = {'bert_clas_splitter':bert_clas_splitter,\n",
    "            'albert_clas_splitter':albert_clas_splitter,\n",
    "            'distilbert_clas_splitter':distilbert_clas_splitter,\n",
    "            'roberta_clas_splitter':roberta_clas_splitter}"
   ]
  },
  {
   "cell_type": "markdown",
   "metadata": {},
   "source": [
    "### Load Model with configs"
   ]
  },
  {
   "cell_type": "markdown",
   "metadata": {},
   "source": [
    "Here we can tweak the HuggingFace model's config file before loading the model"
   ]
  },
  {
   "cell_type": "code",
   "execution_count": 26,
   "metadata": {
    "scrolled": true
   },
   "outputs": [],
   "source": [
    "fasthugs_model = FastHugsModel(model_class=model_class, config_class=config_class,\n",
    "                               pretrained_model_name = pretrained_model_name, \n",
    "                               n_class=dsets.c, max_seq_len=max_seq_len)"
   ]
  },
  {
   "cell_type": "markdown",
   "metadata": {},
   "source": [
    "Initialise everything our Learner"
   ]
  },
  {
   "cell_type": "code",
   "execution_count": 27,
   "metadata": {},
   "outputs": [],
   "source": [
    "opt_func = partial(Adam, decouple_wd=True)\n",
    "\n",
    "cbs = [MixedPrecision(clip=0.1), SaveModelCallback()]\n",
    "\n",
    "loss = CrossEntropyLossFlat() #LabelSmoothingCrossEntropy\n",
    "\n",
    "splitter = splitters[tfmr_splitter]"
   ]
  },
  {
   "cell_type": "markdown",
   "metadata": {},
   "source": [
    "## Time to train\n",
    "### Create our learner"
   ]
  },
  {
   "cell_type": "code",
   "execution_count": 28,
   "metadata": {
    "scrolled": true
   },
   "outputs": [],
   "source": [
    "learn = Learner(dls, fasthugs_model, opt_func=opt_func, splitter=splitter, loss_func=loss, cbs=cbs, metrics=[accuracy])"
   ]
  },
  {
   "cell_type": "markdown",
   "metadata": {},
   "source": [
    "### Stage 1 training\n",
    "Lets freeze the model backbone and only train the classifier head. `freeze_to(1)` means that only the classifier head is trainable"
   ]
  },
  {
   "cell_type": "code",
   "execution_count": 29,
   "metadata": {
    "scrolled": true
   },
   "outputs": [],
   "source": [
    "learn.freeze_to(1)  "
   ]
  },
  {
   "cell_type": "code",
   "execution_count": 30,
   "metadata": {
    "scrolled": true
   },
   "outputs": [],
   "source": [
    "#learn.summary()"
   ]
  },
  {
   "cell_type": "markdown",
   "metadata": {},
   "source": [
    "Lets find a learning rate to train our classifier head"
   ]
  },
  {
   "cell_type": "code",
   "execution_count": 31,
   "metadata": {},
   "outputs": [
    {
     "data": {
      "text/html": [],
      "text/plain": [
       "<IPython.core.display.HTML object>"
      ]
     },
     "metadata": {},
     "output_type": "display_data"
    },
    {
     "data": {
      "text/plain": [
       "(4.3651581904669e-08, 0.12022644281387329)"
      ]
     },
     "execution_count": 31,
     "metadata": {},
     "output_type": "execute_result"
    },
    {
     "data": {
      "image/png": "[encoded data removed]",
      "text/plain": [
       "<Figure size 432x288 with 1 Axes>"
      ]
     },
     "metadata": {
      "needs_background": "light"
     },
     "output_type": "display_data"
    }
   ],
   "source": [
    "learn.lr_find(suggestions=True)"
   ]
  },
  {
   "cell_type": "code",
   "execution_count": 32,
   "metadata": {},
   "outputs": [
    {
     "data": {
      "text/plain": [
       "<matplotlib.collections.LineCollection at 0x7fa87421be50>"
      ]
     },
     "execution_count": 32,
     "metadata": {},
     "output_type": "execute_result"
    },
    {
     "data": {
      "image/png": "[encoded data removed]",
      "text/plain": [
       "<Figure size 432x288 with 1 Axes>"
      ]
     },
     "metadata": {
      "needs_background": "light"
     },
     "output_type": "display_data"
    }
   ],
   "source": [
    "learn.recorder.plot_lr_find()\n",
    "plt.vlines(4.36e-08, 0.6, 1.1)\n",
    "plt.vlines(0.1202, 0.6, 1.1)"
   ]
  },
  {
   "cell_type": "code",
   "execution_count": 33,
   "metadata": {
    "scrolled": true
   },
   "outputs": [
    {
     "data": {
      "text/html": [
       "<table border=\"1\" class=\"dataframe\">\n",
       "  <thead>\n",
       "    <tr style=\"text-align: left;\">\n",
       "      <th>epoch</th>\n",
       "      <th>train_loss</th>\n",
       "      <th>valid_loss</th>\n",
       "      <th>accuracy</th>\n",
       "      <th>time</th>\n",
       "    </tr>\n",
       "  </thead>\n",
       "  <tbody>\n",
       "    <tr>\n",
       "      <td>0</td>\n",
       "      <td>0.751046</td>\n",
       "      <td>0.721825</td>\n",
       "      <td>0.535000</td>\n",
       "      <td>00:14</td>\n",
       "    </tr>\n",
       "    <tr>\n",
       "      <td>1</td>\n",
       "      <td>0.627830</td>\n",
       "      <td>0.512609</td>\n",
       "      <td>0.805000</td>\n",
       "      <td>00:14</td>\n",
       "    </tr>\n",
       "    <tr>\n",
       "      <td>2</td>\n",
       "      <td>0.490338</td>\n",
       "      <td>0.482306</td>\n",
       "      <td>0.795000</td>\n",
       "      <td>00:14</td>\n",
       "    </tr>\n",
       "  </tbody>\n",
       "</table>"
      ],
      "text/plain": [
       "<IPython.core.display.HTML object>"
      ]
     },
     "metadata": {},
     "output_type": "display_data"
    }
   ],
   "source": [
    "learn.fit_one_cycle(3, lr_max=1e-3)"
   ]
  },
  {
   "cell_type": "code",
   "execution_count": 34,
   "metadata": {},
   "outputs": [],
   "source": [
    "learn.save('roberta-fasthugs-stg1-1e-3')"
   ]
  },
  {
   "cell_type": "code",
   "execution_count": 35,
   "metadata": {},
   "outputs": [
    {
     "data": {
      "image/png": "[encoded data removed]",
      "text/plain": [
       "<Figure size 432x288 with 1 Axes>"
      ]
     },
     "metadata": {
      "needs_background": "light"
     },
     "output_type": "display_data"
    }
   ],
   "source": [
    "learn.recorder.plot_loss()"
   ]
  },
  {
   "cell_type": "markdown",
   "metadata": {},
   "source": [
    "### Stage 2 training\n",
    "And now lets train the full model with differential learning rates"
   ]
  },
  {
   "cell_type": "code",
   "execution_count": 36,
   "metadata": {},
   "outputs": [],
   "source": [
    "learn.unfreeze()"
   ]
  },
  {
   "cell_type": "code",
   "execution_count": 37,
   "metadata": {
    "scrolled": true
   },
   "outputs": [],
   "source": [
    "#learn.summary()"
   ]
  },
  {
   "cell_type": "code",
   "execution_count": 38,
   "metadata": {},
   "outputs": [
    {
     "data": {
      "text/html": [],
      "text/plain": [
       "<IPython.core.display.HTML object>"
      ]
     },
     "metadata": {},
     "output_type": "display_data"
    },
    {
     "data": {
      "text/plain": [
       "(3.6307804407442747e-08, 0.0063095735386013985)"
      ]
     },
     "execution_count": 38,
     "metadata": {},
     "output_type": "execute_result"
    },
    {
     "data": {
      "image/png": "[encoded data removed]",
      "text/plain": [
       "<Figure size 432x288 with 1 Axes>"
      ]
     },
     "metadata": {
      "needs_background": "light"
     },
     "output_type": "display_data"
    }
   ],
   "source": [
    "learn.lr_find(suggestions=True)"
   ]
  },
  {
   "cell_type": "code",
   "execution_count": 39,
   "metadata": {},
   "outputs": [
    {
     "data": {
      "text/plain": [
       "<matplotlib.collections.LineCollection at 0x7fa858164ad0>"
      ]
     },
     "execution_count": 39,
     "metadata": {},
     "output_type": "execute_result"
    },
    {
     "data": {
      "image/png": "[encoded data removed]",
      "text/plain": [
       "<Figure size 432x288 with 1 Axes>"
      ]
     },
     "metadata": {
      "needs_background": "light"
     },
     "output_type": "display_data"
    }
   ],
   "source": [
    "learn.recorder.plot_lr_find()\n",
    "plt.vlines(3.630e-08, 0.4, 1.0)\n",
    "plt.vlines(0.006309, 0.4, 1.0)"
   ]
  },
  {
   "cell_type": "code",
   "execution_count": 40,
   "metadata": {
    "scrolled": true
   },
   "outputs": [
    {
     "data": {
      "text/html": [
       "<table border=\"1\" class=\"dataframe\">\n",
       "  <thead>\n",
       "    <tr style=\"text-align: left;\">\n",
       "      <th>epoch</th>\n",
       "      <th>train_loss</th>\n",
       "      <th>valid_loss</th>\n",
       "      <th>accuracy</th>\n",
       "      <th>time</th>\n",
       "    </tr>\n",
       "  </thead>\n",
       "  <tbody>\n",
       "    <tr>\n",
       "      <td>0</td>\n",
       "      <td>0.483958</td>\n",
       "      <td>0.451165</td>\n",
       "      <td>0.835000</td>\n",
       "      <td>00:48</td>\n",
       "    </tr>\n",
       "    <tr>\n",
       "      <td>1</td>\n",
       "      <td>0.392370</td>\n",
       "      <td>0.397665</td>\n",
       "      <td>0.855000</td>\n",
       "      <td>00:49</td>\n",
       "    </tr>\n",
       "    <tr>\n",
       "      <td>2</td>\n",
       "      <td>0.385315</td>\n",
       "      <td>0.388813</td>\n",
       "      <td>0.860000</td>\n",
       "      <td>00:50</td>\n",
       "    </tr>\n",
       "  </tbody>\n",
       "</table>"
      ],
      "text/plain": [
       "<IPython.core.display.HTML object>"
      ]
     },
     "metadata": {},
     "output_type": "display_data"
    }
   ],
   "source": [
    "learn.fit_one_cycle(3, lr_max=slice(1e-6, 1e-5))"
   ]
  },
  {
   "cell_type": "code",
   "execution_count": 41,
   "metadata": {},
   "outputs": [],
   "source": [
    "learn.save('roberta-fasthugs-stg2-3e-5')"
   ]
  },
  {
   "cell_type": "code",
   "execution_count": 42,
   "metadata": {},
   "outputs": [
    {
     "data": {
      "image/png": "[encoded data removed]",
      "text/plain": [
       "<Figure size 432x288 with 1 Axes>"
      ]
     },
     "metadata": {
      "needs_background": "light"
     },
     "output_type": "display_data"
    }
   ],
   "source": [
    "learn.recorder.plot_loss()"
   ]
  },
  {
   "cell_type": "markdown",
   "metadata": {},
   "source": [
    "## Lets Look at the model's predictions"
   ]
  },
  {
   "cell_type": "code",
   "execution_count": 51,
   "metadata": {},
   "outputs": [
    {
     "data": {
      "text/html": [],
      "text/plain": [
       "<IPython.core.display.HTML object>"
      ]
     },
     "metadata": {},
     "output_type": "display_data"
    },
    {
     "data": {
      "text/plain": [
       "('positive', tensor(1), tensor([0.4072, 0.5928]))"
      ]
     },
     "execution_count": 51,
     "metadata": {},
     "output_type": "execute_result"
    }
   ],
   "source": [
    "learn.predict(\"This was a really good movie, i loved it\")"
   ]
  },
  {
   "cell_type": "code",
   "execution_count": 52,
   "metadata": {},
   "outputs": [
    {
     "data": {
      "text/html": [],
      "text/plain": [
       "<IPython.core.display.HTML object>"
      ]
     },
     "metadata": {},
     "output_type": "display_data"
    }
   ],
   "source": [
    "from fastai2.interpret import *\n",
    "interp = Interpretation.from_learner(learn)"
   ]
  },
  {
   "cell_type": "code",
   "execution_count": 53,
   "metadata": {},
   "outputs": [
    {
     "data": {
      "text/html": [
       "<table border=\"1\" class=\"dataframe\">\n",
       "  <thead>\n",
       "    <tr style=\"text-align: right;\">\n",
       "      <th></th>\n",
       "      <th>input</th>\n",
       "      <th>target</th>\n",
       "      <th>predicted</th>\n",
       "      <th>probability</th>\n",
       "      <th>loss</th>\n",
       "    </tr>\n",
       "  </thead>\n",
       "  <tbody>\n",
       "    <tr>\n",
       "      <th>0</th>\n",
       "      <td>&lt;s&gt; Ġx xb os Ġxx m aj Ġin Ġ17 th Ġxx m aj Ġcentury Ġxx m aj Ġj apan , Ġthere Ġlived Ġa Ġsamurai Ġwho Ġwould Ġset Ġthe Ġstandard Ġfor Ġthe Ġages . Ġxx m aj Ġhis Ġname Ġwas Ġxx m aj Ġmay eda . Ġxx m aj Ġhe Ġis Ġsent Ġon Ġan Ġepic Ġjourney Ġacross Ġthe Ġworld Ġto Ġacquire Ġ5 , Ġxx rep Ġ3 Ġ0 Ġmus cats Ġfrom Ġthe Ġxx m aj Ġking Ġof Ġxx m aj Ġsp ain . Ġxx m aj Ġwhilst Ġat Ġsea Ġa Ġviolent Ġstorm Ġswall ows Ġtheir Ġprecious Ġgold Ġintended Ġto Ġbuy Ġthe Ġweapons Ġand Ġalmost Ġtakes Ġtheir Ġlives . Ġxx m aj Ġmay eda Ġmust Ġbattle Ġall Ġodds Ġto Ġsurvive Ġand Ġthe Ġsecure Ġthe Ġfate Ġof Ġhis Ġbeloved Ġxx m aj Ġj apan . Ġxx m aj Ġsh ogun Ġxx m aj Ġmay eda Ġis Ġa Ġmulti Ġmillion Ġdollar Ġaction Ġadventure Ġepic Ġset</td>\n",
       "      <td>negative</td>\n",
       "      <td>positive</td>\n",
       "      <td>0.9141414165496826</td>\n",
       "      <td>2.4550540447235107</td>\n",
       "    </tr>\n",
       "    <tr>\n",
       "      <th>1</th>\n",
       "      <td>&lt;s&gt; Ġx xb os Ġxx m aj Ġin Ġorder Ġto Ġhold Ġthe Ġpublic 's Ġattention Ġfor Ġthree Ġhours , Ġwe Ġwere Ġtreated Ġnot Ġso Ġmuch Ġto Ġa Ġfamily 's Ġr omp Ġthrough Ġfour Ġgenerations Ġand Ġ120 Ġyears Ġof Ġxx m aj Ġhung arian Ġhistory , Ġas Ġto Ġsexual Ġlia isons Ġwith Ġa Ġsister , Ġa Ġsister - in - law Ġand Ġother Ġadul ter ies . Ġxx m aj Ġoh Ġyes , Ġthere Ġwas Ġalso Ġa Ġtotally Ġgrat uitous Ġrape . Ġxx m aj Ġhaving Ġsaid Ġall Ġthis , Ġthe Ġfirst Ġstory Ġof Ġthe Ġrelationship Ġamong Ġthe Ġchildren Ġof Ġthe Ġpatriarch Ġwas Ġfresh Ġand Ġsens ual Ġ- Ġthanks Ġto Ġxx m aj Ġj enn ifer Ġxx m aj Ġeh le . &lt;/s&gt; &lt;pad&gt; &lt;pad&gt; &lt;pad&gt; &lt;pad&gt; &lt;pad&gt; &lt;pad&gt; &lt;pad&gt; &lt;pad&gt; &lt;pad&gt; &lt;pad&gt; &lt;pad&gt; &lt;pad&gt; &lt;pad&gt; &lt;pad&gt; &lt;pad&gt; &lt;pad&gt; &lt;pad&gt; &lt;pad&gt; &lt;pad&gt; &lt;pad&gt; &lt;pad&gt; &lt;pad&gt; &lt;pad&gt; &lt;pad&gt; &lt;pad&gt; &lt;pad&gt; &lt;pad&gt; &lt;pad&gt;</td>\n",
       "      <td>negative</td>\n",
       "      <td>positive</td>\n",
       "      <td>0.8903409242630005</td>\n",
       "      <td>2.210379123687744</td>\n",
       "    </tr>\n",
       "    <tr>\n",
       "      <th>2</th>\n",
       "      <td>&lt;s&gt; Ġx xb os Ġxx m aj Ġso , Ġxx m aj Ġtodd Ġxx m aj Ġsheets Ġonce Ġstated Ġthat Ġhe Ġconsiders Ġhis Ġ1993 , Ġshot - on - video Ġxx m aj Ġz - ep ic , Ġxx m aj Ġzombie Ġxx m aj Ġblood bath Ġto Ġbe Ġhis Ġfirst Ġfeature Ġfilm . Ġxx m aj Ġanyone Ġwho 's Ġever Ġseen Ġa Ġlittle Ġbeauty Ġcalled Ġxx m aj Ġzombie Ġxx m aj Ġrampage Ġknows Ġexactly Ġhow Ġuntrue Ġthat Ġstatement Ġis . Ġi Ġmean , Ġwhat Ġmakes Ġthis Ġone Ġthat Ġmuch Ġmore Ġsuperior ? Ġxx m aj Ġwell , Ġthen Ġagain , Ġxx m aj Ġzombie Ġxx m aj Ġrampage Ġdoesn 't Ġinclude Ġthat Ġmul let Ġguy , Ġnow Ġdoes Ġit ? Ġ Ċ Ċ xx m aj Ġfor Ġone Ġto Ġcomprehend Ġexactly Ġwhy Ġxx m aj Ġzombie Ġxx m aj Ġblood bath Ġis Ġactually Ġconsidered Ġworth Ġa Ġdamn ,</td>\n",
       "      <td>positive</td>\n",
       "      <td>negative</td>\n",
       "      <td>0.8822639584541321</td>\n",
       "      <td>2.139309883117676</td>\n",
       "    </tr>\n",
       "  </tbody>\n",
       "</table>"
      ],
      "text/plain": [
       "<IPython.core.display.HTML object>"
      ]
     },
     "metadata": {},
     "output_type": "display_data"
    }
   ],
   "source": [
    "interp.plot_top_losses(3)"
   ]
  }
 ],
 "metadata": {
  "kernelspec": {
   "display_name": "Python 3",
   "language": "python",
   "name": "python3"
  },
  "language_info": {
   "codemirror_mode": {
    "name": "ipython",
    "version": 3
   },
   "file_extension": ".py",
   "mimetype": "text/x-python",
   "name": "python",
   "nbconvert_exporter": "python",
   "pygments_lexer": "ipython3",
   "version": "3.7.6"
  }
 },
 "nbformat": 4,
 "nbformat_minor": 2
}
